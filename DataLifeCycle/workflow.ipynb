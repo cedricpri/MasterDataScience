{
 "cells": [
  {
   "cell_type": "markdown",
   "metadata": {},
   "source": [
    "# Workflow\n",
    "\n",
    "En esta práctica vamos a aplicar lo aprendido en esta asignatura para crear un flujo que automatice la descarga, análisis y publicación de los datos utilizando distintas herramientas como Zenodo, github y librerías de python para el análisis de datos\n",
    "\n",
    "### Librerías necesarias para la práctica\n",
    "\n",
    "```python\n",
    "import xml.etree.ElementTree as ET\n",
    "import requests\n",
    "import json\n",
    "import zipfile\n",
    "```\n",
    "\n",
    "### Elementos necesarios\n",
    "* Al menos un fichero CSV\n",
    "* Un script de análisis de datos en CSV (Publicado en Github)\n"
   ]
  },
  {
   "cell_type": "markdown",
   "metadata": {},
   "source": [
    "# Publicación de datos iniciales\n",
    "\n",
    "Utilizando Zenodo, de forma manual, publicar los datos que se vayan a utilizar. Pueden ser datos de alguna práctica (tipo tabla), imágenes, etc. Incluir metadatos.\n",
    "\n",
    "<div class=\"alert alert-warning\" role=\"alert\" style=\"margin: 10px\">\n",
    "<p>Una vez logueado en Zenodo, en la parte superior, crear una nueva \"Community\". Utilizar Communities para localizar más facilmente los datos</p>\n",
    "</div>\n"
   ]
  },
  {
   "cell_type": "code",
   "execution_count": null,
   "metadata": {},
   "outputs": [],
   "source": [
    "#Data has been sent to the following URL: https://zenodo.org/record/3609002#.Xh81zsZKjEE"
   ]
  },
  {
   "cell_type": "markdown",
   "metadata": {},
   "source": [
    "# Publicación de script de Análisis\n",
    "\n",
    "En Github + Zenodo"
   ]
  },
  {
   "cell_type": "code",
   "execution_count": 42,
   "metadata": {},
   "outputs": [],
   "source": [
    "#The script has now been published in https://github.com/cedricpri/MasterDLC/releases/tag/v1.0"
   ]
  },
  {
   "cell_type": "markdown",
   "metadata": {},
   "source": [
    "# Descarga de datos\n",
    "\n",
    "Desde Zenodo, utilizando los métodos conocidos (OAI-PMH + API o DOI + API)\n",
    "\n",
    "Pista: url+'?verb=ListRecords&set=nombre_set"
   ]
  },
  {
   "cell_type": "code",
   "execution_count": 48,
   "metadata": {},
   "outputs": [
    {
     "name": "stdout",
     "output_type": "stream",
     "text": [
      "Identifier: 3609002\n",
      "Download link: https://zenodo.org/api/files/39a7036d-1093-480b-9c3e-7a08a73302c0/UsersData.csv\n",
      "File downloaded!\n"
     ]
    }
   ],
   "source": [
    "#My DOI: 10.5281/zenodo.3609002\n",
    "import xml.etree.ElementTree as ET\n",
    "import requests\n",
    "import json\n",
    "import csv\n",
    "\n",
    "#Let's search for our data using ListRecords and my community name\n",
    "oai = requests.get('https://zenodo.org/oai2d?verb=ListRecords&set=user-datasciencemastercedric&metadataPrefix=datacite')\n",
    "\n",
    "oaiTree = ET.fromstring(oai.text)\n",
    "records = oaiTree.findall('.//{http://datacite.org/schema/kernel-4}identifier')\n",
    "\n",
    "#Only one record should be found, if not, the first will be used\n",
    "for e in records:\n",
    "    zenodoId = e.text\n",
    "    break\n",
    "    \n",
    "identifier = zenodoId.split('.')[-1] #We just need the part after the dot\n",
    "print(\"Identifier: \" + identifier)\n",
    "r = requests.get(\"https://zenodo.org/api/records/\"+identifier)\n",
    "\n",
    "#r.text is now a json where we can find the download link\n",
    "record = json.loads(r.text)\n",
    "downloadLink = (record['files'][0]['links']['self'])\n",
    "print(\"Download link: \" + downloadLink)\n",
    "\n",
    "#Let's download the file\n",
    "r2 = requests.get(downloadLink)\n",
    "if r2.status_code == 200:\n",
    "    print(\"File downloaded!\")\n",
    "else:\n",
    "    print(\"An error \"+ str(r2.status_code) + \" occured when downloading the file\")\n",
    "    \n",
    "f = open('FlightsData.csv','w')\n",
    "f.write(r2.text)\n",
    "f.close()    "
   ]
  },
  {
   "cell_type": "markdown",
   "metadata": {},
   "source": [
    "# Metadatos\n",
    "\n",
    "Muestra los metadatos asociados a los objetos digitales"
   ]
  },
  {
   "cell_type": "code",
   "execution_count": 61,
   "metadata": {},
   "outputs": [
    {
     "name": "stdout",
     "output_type": "stream",
     "text": [
      "{http://www.openarchives.org/OAI/2.0/}responseDate 2020-01-16T15:29:14Z\n",
      "{http://www.openarchives.org/OAI/2.0/}request https://zenodo.org/oai2d\n",
      "{http://www.openarchives.org/OAI/2.0/}ListRecords \n",
      "    \n",
      "{http://www.openarchives.org/OAI/2.0/}record \n",
      "      \n",
      "{http://www.openarchives.org/OAI/2.0/}header \n",
      "        \n",
      "{http://www.openarchives.org/OAI/2.0/}identifier oai:zenodo.org:3609002\n",
      "{http://www.openarchives.org/OAI/2.0/}datestamp 2020-01-15T15:54:51Z\n",
      "{http://www.openarchives.org/OAI/2.0/}setSpec user-datasciencemastercedric\n",
      "{http://www.openarchives.org/OAI/2.0/}metadata \n",
      "        \n",
      "{http://datacite.org/schema/kernel-4}resource \n",
      "          \n",
      "{http://datacite.org/schema/kernel-4}identifier 10.5281/zenodo.3609002\n",
      "{http://datacite.org/schema/kernel-4}creators \n",
      "            \n",
      "{http://datacite.org/schema/kernel-4}creator \n",
      "              \n",
      "{http://datacite.org/schema/kernel-4}creatorName Cedric Prieels\n",
      "{http://datacite.org/schema/kernel-4}affiliation Logmyflight\n",
      "{http://datacite.org/schema/kernel-4}titles \n",
      "            \n",
      "{http://datacite.org/schema/kernel-4}title Flight data\n",
      "{http://datacite.org/schema/kernel-4}publisher Zenodo\n",
      "{http://datacite.org/schema/kernel-4}publicationYear 2020\n",
      "{http://datacite.org/schema/kernel-4}subjects \n",
      "            \n",
      "{http://datacite.org/schema/kernel-4}subject flights\n",
      "{http://datacite.org/schema/kernel-4}dates \n",
      "            \n",
      "{http://datacite.org/schema/kernel-4}date 2020-01-15\n",
      "{http://datacite.org/schema/kernel-4}resourceType None\n",
      "{http://datacite.org/schema/kernel-4}relatedIdentifiers \n",
      "            \n",
      "{http://datacite.org/schema/kernel-4}relatedIdentifier 10.5281/zenodo.3609001\n",
      "{http://datacite.org/schema/kernel-4}relatedIdentifier https://zenodo.org/communities/datasciencemastercedric\n",
      "{http://datacite.org/schema/kernel-4}version v1\n",
      "{http://datacite.org/schema/kernel-4}rightsList \n",
      "            \n",
      "{http://datacite.org/schema/kernel-4}rights Creative Commons Attribution 4.0 International\n",
      "{http://datacite.org/schema/kernel-4}rights Open Access\n",
      "{http://datacite.org/schema/kernel-4}descriptions \n",
      "            \n",
      "{http://datacite.org/schema/kernel-4}description <p>Flight data by several users as registered on the website Logmyflight</p>\n",
      "{http://www.openarchives.org/OAI/2.0/}record \n",
      "      \n",
      "{http://www.openarchives.org/OAI/2.0/}header \n",
      "        \n",
      "{http://www.openarchives.org/OAI/2.0/}identifier oai:zenodo.org:3608967\n",
      "{http://www.openarchives.org/OAI/2.0/}datestamp 2020-01-16T15:18:48Z\n",
      "{http://www.openarchives.org/OAI/2.0/}setSpec user-datasciencemastercedric\n",
      "{http://www.openarchives.org/OAI/2.0/}metadata \n",
      "        \n",
      "{http://datacite.org/schema/kernel-4}resource \n",
      "          \n",
      "{http://datacite.org/schema/kernel-4}identifier 10.5281/zenodo.3608967\n",
      "{http://datacite.org/schema/kernel-4}creators \n",
      "            \n",
      "{http://datacite.org/schema/kernel-4}creator \n",
      "              \n",
      "{http://datacite.org/schema/kernel-4}creatorName Instituto Nacional de Estadistica\n",
      "{http://datacite.org/schema/kernel-4}affiliation Instituto Nacional de Estadistica\n",
      "{http://datacite.org/schema/kernel-4}titles \n",
      "            \n",
      "{http://datacite.org/schema/kernel-4}title Average daily alcohol consumption\n",
      "{http://datacite.org/schema/kernel-4}publisher Zenodo\n",
      "{http://datacite.org/schema/kernel-4}publicationYear 2020\n",
      "{http://datacite.org/schema/kernel-4}subjects \n",
      "            \n",
      "{http://datacite.org/schema/kernel-4}subject alcohol\n",
      "{http://datacite.org/schema/kernel-4}subject consumption\n",
      "{http://datacite.org/schema/kernel-4}dates \n",
      "            \n",
      "{http://datacite.org/schema/kernel-4}date 2020-01-15\n",
      "{http://datacite.org/schema/kernel-4}language es\n",
      "{http://datacite.org/schema/kernel-4}resourceType None\n",
      "{http://datacite.org/schema/kernel-4}relatedIdentifiers \n",
      "            \n",
      "{http://datacite.org/schema/kernel-4}relatedIdentifier 10.5281/zenodo.3608966\n",
      "{http://datacite.org/schema/kernel-4}relatedIdentifier https://zenodo.org/communities/datasciencemastercedric\n",
      "{http://datacite.org/schema/kernel-4}version v1\n",
      "{http://datacite.org/schema/kernel-4}rightsList \n",
      "            \n",
      "{http://datacite.org/schema/kernel-4}rights Creative Commons Attribution 4.0 International\n",
      "{http://datacite.org/schema/kernel-4}rights Open Access\n",
      "{http://datacite.org/schema/kernel-4}descriptions \n",
      "            \n",
      "{http://datacite.org/schema/kernel-4}description <p>Average daily alcohol consumption by sex and age group. Average and standard deviation. Population aged 15 years old and over that consumes alcoholic beverages more than once per month</p>\n",
      "{http://datacite.org/schema/kernel-4}description {\"references\": [\"Insittuto Nacional de Estadistica\"]}\n"
     ]
    }
   ],
   "source": [
    "#Let's search for our data using ListRecords and my community name\n",
    "oai = requests.get('https://zenodo.org/oai2d?verb=ListRecords&set=user-datasciencemastercedric&metadataPrefix=datacite')\n",
    "\n",
    "oaiTree = ET.fromstring(oai.text)\n",
    "records = oaiTree.findall('.//')\n",
    "\n",
    "#Only one record should be found, if not, the first will be used\n",
    "for e in records:\n",
    "    print(str(e.tag) + \" \" + str(e.text))"
   ]
  },
  {
   "cell_type": "markdown",
   "metadata": {},
   "source": [
    "# Descarga de código\n",
    "\n",
    "Desde Zenodo, utilizando los métodos conocidos (OAI-PMH, API)\n",
    "\n",
    "<div class=\"alert alert-warning\" role=\"alert\" style=\"margin: 10px\">\n",
    "<p>Zenodo guarda un zip con el código</p>\n",
    "</div>"
   ]
  },
  {
   "cell_type": "code",
   "execution_count": 59,
   "metadata": {},
   "outputs": [
    {
     "name": "stdout",
     "output_type": "stream",
     "text": [
      "Download link: https://zenodo.org/api/files/ebd4d5d1-a91f-4707-affa-6f70a74d2be9/cedricpri/MasterDLC-v1.0.zip\n",
      "Code downloaded!\n"
     ]
    }
   ],
   "source": [
    "import requests, zipfile, io, os\n",
    "\n",
    "r = requests.get(\"https://zenodo.org/api/deposit/depositions\", params={'q': 'MasterDLC', #Search query\n",
    "                                'access_token': 'l8kewVK8ZFjDw5mmoNVnHUXLqDuqhfr39FCrekepsZMiLKtKWTf82uzFMAOZ'})\n",
    "if r.status_code == 200:\n",
    "    record = json.loads(r.text)\n",
    "    downloadLink = (record[0]['files'][0]['links']['download'])\n",
    "    print(\"Download link: \" + downloadLink)\n",
    "    \n",
    "    #Let's download the file\n",
    "    r2 = requests.get(downloadLink+\"?access_token=l8kewVK8ZFjDw5mmoNVnHUXLqDuqhfr39FCrekepsZMiLKtKWTf82uzFMAOZ\")\n",
    "    if r2.status_code == 200:\n",
    "        print(\"Code downloaded!\")\n",
    "        z = zipfile.ZipFile(io.BytesIO(r2.content))\n",
    "        z.extractall() #To save the zip uncompressed\n",
    "        os.system('mv cedricpri-MasterDLC*/*.py .')\n",
    "    else:\n",
    "        print(\"An error \"+ str(r2.status_code) + \" occured when downloading the code\")\n",
    "    \n",
    "else:\n",
    "    print(\"An error \"+ str(r2.status_code) + \" occured when downloading the code\")"
   ]
  },
  {
   "cell_type": "markdown",
   "metadata": {},
   "source": [
    "# Análisis de los datos\n",
    "\n",
    "Combinando los datos iniciales, producir un resultado en un fichero nuevo: Otro CSV, imagen, etc"
   ]
  },
  {
   "cell_type": "code",
   "execution_count": 63,
   "metadata": {},
   "outputs": [
    {
     "data": {
      "image/png": "[encoded data removed]",
      "text/plain": [
       "<Figure size 432x288 with 1 Axes>"
      ]
     },
     "metadata": {
      "needs_background": "light"
     },
     "output_type": "display_data"
    }
   ],
   "source": [
    "#The python file is saved under cedricpri-MasterDLC-9b418b0/analisis.py\n",
    "#The dataset is saved under FlightsData.csv\n",
    "\n",
    "import csv\n",
    "import numpy as np\n",
    "import matplotlib.pyplot as plt\n",
    "\n",
    "%run ./analisis.py"
   ]
  },
  {
   "cell_type": "markdown",
   "metadata": {},
   "source": [
    "# Publicación de los Datos\n",
    "\n",
    "Utilizando la API de Zenodo"
   ]
  },
  {
   "cell_type": "code",
   "execution_count": 87,
   "metadata": {},
   "outputs": [
    {
     "name": "stdout",
     "output_type": "stream",
     "text": [
      "{'checksum': '426676441a158b8a4771320f5f9e9625', 'filename': 'FlightsData.csv', 'filesize': 1359853, 'id': '5690f4ba-e635-4b15-8a27-9815fc217602', 'links': {'download': 'https://zenodo.org/api/files/b44f42f3-bcdb-42c7-8dbe-fea3be4ebc59/FlightsData.csv', 'self': 'https://zenodo.org/api/deposit/depositions/3610447/files/5690f4ba-e635-4b15-8a27-9815fc217602'}}\n",
      "An error occured. Maybe you already published the same file?\n"
     ]
    }
   ],
   "source": [
    "#Empty upload\n",
    "headers = {\"Content-Type\": \"application/json\"}\n",
    "r = requests.post('https://zenodo.org/api/deposit/depositions', params={'access_token': 'l8kewVK8ZFjDw5mmoNVnHUXLqDuqhfr39FCrekepsZMiLKtKWTf82uzFMAOZ'}, json={}, headers=headers)\n",
    "\n",
    "if r.status_code == 201:\n",
    "    deposition_id = r.json()['id']\n",
    "    data = {'name': 'FlightsData.csv'}\n",
    "    files = {'file': open('FlightsData.csv', 'rb')}\n",
    "    r2 = requests.post('https://zenodo.org/api/deposit/depositions/%s/files' % deposition_id, params={'access_token': 'l8kewVK8ZFjDw5mmoNVnHUXLqDuqhfr39FCrekepsZMiLKtKWTf82uzFMAOZ'}, data=data, files=files)\n",
    "    print(r2.json())\n",
    "    \n",
    "    #Create the metadata\n",
    "    data = {\n",
    "         'metadata': {\n",
    "         'title': 'Zenodo flights data upload',\n",
    "         'upload_type': 'dataset',\n",
    "         'description': 'This is my first upload from the REST API of the flights data csv dataset',\n",
    "         'creators': [{'name': 'Cedric Prieels',\n",
    "                       'identifier': 'datasciencemastercedric'}]\n",
    "        }\n",
    "     }\n",
    "    \n",
    "    r3 = requests.put('https://zenodo.org/api/deposit/depositions/%s' % deposition_id, params={'access_token': 'l8kewVK8ZFjDw5mmoNVnHUXLqDuqhfr39FCrekepsZMiLKtKWTf82uzFMAOZ'}, data=json.dumps(data), headers=headers)\n",
    "    \n",
    "    #Uncomment these lines to send the script online !\n",
    "    if r3.status_code == 200 and r2.status_code == 201:\n",
    "        r4 = requests.post('https://zenodo.org/api/deposit/depositions/%s/actions/publish' % deposition_id, params={'access_token': 'l8kewVK8ZFjDw5mmoNVnHUXLqDuqhfr39FCrekepsZMiLKtKWTf82uzFMAOZ'} )\n",
    "        if r4.status_code == 202:\n",
    "            print(\"Upload success!\")\n",
    "        else:\n",
    "            print(\"An error \"+ str(r4.status_code) + \" occured when uploading the code (3)\")\n",
    "    elif r3.status_code == 400:\n",
    "            print(\"An error occured. Maybe you already published the same file?\")\n",
    "    else:\n",
    "            print(\"An error \"+ str(r3.status_code) + \" occured when uploading the code (2)\")\n",
    "    \n",
    "else:\n",
    "    print(\"An error \"+ str(r.status_code) + \" occured when uploading the code (1)\")"
   ]
  },
  {
   "cell_type": "markdown",
   "metadata": {},
   "source": [
    "¿Puedes replicar ese workflow en un sólo bloque con otros datos?"
   ]
  },
  {
   "cell_type": "code",
   "execution_count": null,
   "metadata": {},
   "outputs": [],
   "source": []
  }
 ],
 "metadata": {
  "kernelspec": {
   "display_name": "Python 3",
   "language": "python",
   "name": "python3"
  }
 },
 "nbformat": 4,
 "nbformat_minor": 2
}
