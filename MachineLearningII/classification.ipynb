{
 "cells": [
  {
   "cell_type": "markdown",
   "metadata": {},
   "source": [
    "# Practica 1"
   ]
  },
  {
   "cell_type": "markdown",
   "metadata": {},
   "source": [
    "Machine Learning II, done by Cédric Prieels."
   ]
  },
  {
   "cell_type": "markdown",
   "metadata": {},
   "source": [
    "The objective of this exercise is to put into practice what has been seen during the theoretical class about the kernel methods used for classification. The main objective is then to do a binary classification using methods studied by using one of our own datasets and to obtain the best paraneters for this classification using a grid search method."
   ]
  },
  {
   "cell_type": "markdown",
   "metadata": {},
   "source": [
    "## First step"
   ]
  },
  {
   "cell_type": "markdown",
   "metadata": {},
   "source": [
    "The first step of the exercise consists then in finding an appropriate dataset to work with. Since I am also doing a thesis in high energy physics, analyzing the data from the LHC particle accelerator of CERN, it seemed only natural to use one of our own dataset. "
   ]
  },
  {
   "cell_type": "markdown",
   "metadata": {},
   "source": [
    "We usually work with Monte-Carlo simulations representing the different properties of the backgrounds expected to be seen at the LHC. I then decided to use two files generated using these methods for two different processes: the production of two top quarks (ttbar process) and the production of a Z boson along with some jets (Drell-Yan process). Both processes are quite common at the LHC and have different kinematics: for example, a typical ttbar event comes along with a large amoung of missing transerve energy because of the neutrinos that appears from the decay of the top quark, while the DY process typically gives two leptons (electrons or muons) having an invariant mass close to 90 GeV, the mass of the Z boson itself. Studying these two variables should then be able to help us to binary classify the different events, giving each of them a 'ttbar' or 'DY' label depending on the actual value observed for these two variables, along with the momentum of the two leptons observed, that can also introduce some discrimination."
   ]
  },
  {
   "cell_type": "markdown",
   "metadata": {},
   "source": [
    "Since we usually work with rootfiles, the first step consisted in opening one file for each process, read 600 events in each case and write in a CSV file the value of the index, the momentum of the first two leptons, the value of the missing transverse energy (met) generated, the value of mll, the invariant mass of the two leptons, and a label at the end to know which process this event corresponds to. Of course, the goal of this exercise is to actually find this label ourselves, so this should not be used at principle. We will now import this file using python."
   ]
  },
  {
   "cell_type": "code",
   "execution_count": 14,
   "metadata": {},
   "outputs": [
    {
     "name": "stdout",
     "output_type": "stream",
     "text": [
      "      index         pt1        pt2        met         mll category\n",
      "1066   1066   45.768345  43.516159  82.625893   90.436119       dy\n",
      "874     874   44.874210  42.041000  29.944307   89.521767       dy\n",
      "484     484   47.934319  11.839559  97.698029   19.761976    ttbar\n",
      "436     436   57.363625  13.847028  70.716270   82.569672    ttbar\n",
      "1105   1105   35.124664  29.855772  57.409435   97.480446       dy\n",
      "1192   1192  104.029053  23.193913   5.848596   90.286713       dy\n",
      "1117   1117   38.781387  35.055828  14.845081   95.923950       dy\n",
      "682     682   51.259697  25.463451  24.137373   83.827721       dy\n",
      "734     734   30.774981  20.163094  60.237362  102.531761       dy\n",
      "872     872   42.755699  33.857681  16.029110   92.754990       dy\n"
     ]
    }
   ],
   "source": [
    "import pandas as pd #Let's use panda to read our csv\n",
    "import matplotlib.pyplot as plt\n",
    "%matplotlib inline\n",
    "\n",
    "data = pd.read_csv(\"MCdata600.csv\")\n",
    "data[\"category\"] = data[\"category\"].astype('category') #Keep the category as categorical data\n",
    "\n",
    "#For now, all the ttbar events are put at the beginning of the file and the DY at the end, so let's mix them\n",
    "data = data.sample(frac=1)\n",
    "print(data.head(10)) #Print the first variables"
   ]
  },
  {
   "cell_type": "markdown",
   "metadata": {},
   "source": [
    "Let's now group the data by category to plot the different variables at our disposal."
   ]
  },
  {
   "cell_type": "code",
   "execution_count": 15,
   "metadata": {},
   "outputs": [
    {
     "name": "stdout",
     "output_type": "stream",
     "text": [
      "     index        pt1        pt2        met        mll category\n",
      "484    484  47.934319  11.839559  97.698029  19.761976    ttbar\n",
      "436    436  57.363625  13.847028  70.716270  82.569672    ttbar\n",
      "431    431  57.772198  51.758972  41.199162  50.352600    ttbar\n",
      "516    516  48.482399  47.935234  72.445389  30.601095    ttbar\n",
      "3        3  68.949333  27.469019  32.378071  30.483547    ttbar\n"
     ]
    }
   ],
   "source": [
    "dy = data[data.category == 'dy'] #Data frame for the DY process\n",
    "ttbar = data[data.category == 'ttbar'] #Data frame for the ttbar process\n",
    "print(ttbar.head())"
   ]
  },
  {
   "cell_type": "markdown",
   "metadata": {},
   "source": [
    "We can now study our data to see if we are going to get some discrimination with these variables or not. We can then simply use the describe function of panda dataframes to study some statistical parameters of the different variables."
   ]
  },
  {
   "cell_type": "code",
   "execution_count": 16,
   "metadata": {},
   "outputs": [
    {
     "name": "stdout",
     "output_type": "stream",
     "text": [
      "TTbar dataset description: \n",
      "\n",
      "            index         pt1         pt2         met         mll\n",
      "count  600.000000  600.000000  600.000000  600.000000  600.000000\n",
      "mean   299.500000   74.458213   35.995812   76.651013  102.332450\n",
      "std    173.349358   42.849141   26.693515   43.654910   80.853896\n",
      "min      0.000000   18.052942    8.034679    5.519699    1.914350\n",
      "25%    149.750000   46.747743   20.577390   44.097012   53.765457\n",
      "50%    299.500000   64.400227   30.209872   70.481342   86.815449\n",
      "75%    449.250000   91.472946   44.985221  103.486269  128.323723\n",
      "max    599.000000  418.720459  414.390442  365.013702  873.505432\n",
      "\n",
      "DY dataset description: \n",
      "\n",
      "             index         pt1         pt2         met         mll\n",
      "count   600.000000  600.000000  600.000000  600.000000  600.000000\n",
      "mean    899.500000   50.786124   34.744494   31.707284   89.598956\n",
      "std     173.349358   20.609709   11.806190   18.993010   18.263198\n",
      "min     600.000000   19.490150    9.771075    1.514080   23.174679\n",
      "25%     749.750000   40.081472   27.175507   16.757008   87.771675\n",
      "50%     899.500000   46.495998   35.291557   28.463864   90.368683\n",
      "75%    1049.250000   55.010045   41.214091   43.068105   92.525082\n",
      "max    1199.000000  268.916077  158.506393  130.332794  386.714478\n"
     ]
    }
   ],
   "source": [
    "print(\"TTbar dataset description: \\n\")\n",
    "print(ttbar.describe())\n",
    "print(\"\\nDY dataset description: \\n\")\n",
    "print(dy.describe())"
   ]
  },
  {
   "cell_type": "markdown",
   "metadata": {},
   "source": [
    "We clearly see that the mean and standard deviation values are quite different in both cases, especially when considering the mll and met variables that we are going to consider next. Let's now plot this data to see it."
   ]
  },
  {
   "cell_type": "code",
   "execution_count": 17,
   "metadata": {},
   "outputs": [
    {
     "data": {
      "text/plain": [
       "<matplotlib.collections.PathCollection at 0x7f28d8091e48>"
      ]
     },
     "execution_count": 17,
     "metadata": {},
     "output_type": "execute_result"
    },
    {
     "data": {
      "image/png": "[encoded data removed]",
      "text/plain": [
       "<Figure size 432x288 with 1 Axes>"
      ]
     },
     "metadata": {
      "needs_background": "light"
     },
     "output_type": "display_data"
    },
    {
     "data": {
      "image/png": "[encoded data removed]",
      "text/plain": [
       "<Figure size 432x288 with 1 Axes>"
      ]
     },
     "metadata": {
      "needs_background": "light"
     },
     "output_type": "display_data"
    },
    {
     "data": {
      "image/png": "[encoded data removed]",
      "text/plain": [
       "<Figure size 432x288 with 1 Axes>"
      ]
     },
     "metadata": {
      "needs_background": "light"
     },
     "output_type": "display_data"
    },
    {
     "data": {
      "image/png": "[encoded data removed]",
      "text/plain": [
       "<Figure size 432x288 with 1 Axes>"
      ]
     },
     "metadata": {
      "needs_background": "light"
     },
     "output_type": "display_data"
    },
    {
     "data": {
      "image/png": "[encoded data removed]",
      "text/plain": [
       "<Figure size 432x288 with 1 Axes>"
      ]
     },
     "metadata": {
      "needs_background": "light"
     },
     "output_type": "display_data"
    },
    {
     "data": {
      "image/png": "[encoded data removed]",
      "text/plain": [
       "<Figure size 432x288 with 1 Axes>"
      ]
     },
     "metadata": {
      "needs_background": "light"
     },
     "output_type": "display_data"
    }
   ],
   "source": [
    "#Important parameters for the plots\n",
    "nBins = 20\n",
    "mllRange = (0, 140)\n",
    "metRange = (0, 140)\n",
    "\n",
    "#Pt1 distribution\n",
    "fig, axs = plt.subplots(1, 1)\n",
    "axs.hist(dy['pt1'], bins=nBins, range=mllRange)\n",
    "axs.hist(ttbar['pt1'], bins=nBins, range=mllRange, color='red')\n",
    "axs.set_title('Leading momentum')\n",
    "\n",
    "#Pt2 distribution\n",
    "fig, axs = plt.subplots(1, 1)\n",
    "axs.hist(dy['pt2'], bins=nBins, range=mllRange)\n",
    "axs.hist(ttbar['pt2'], bins=nBins, range=mllRange, color='red')\n",
    "axs.set_title('Trailing momentum')\n",
    "\n",
    "#Momentum scatter distribution\n",
    "fig, axs = plt.subplots(1, 1)\n",
    "axs.scatter(ttbar['pt1'], ttbar['pt2'], color='red')\n",
    "axs.scatter(dy['pt1'], dy['pt2'])\n",
    "\n",
    "#Mll distribution\n",
    "fig, axs = plt.subplots(1, 1)\n",
    "axs.hist(dy['mll'], bins=nBins, range=mllRange)\n",
    "axs.hist(ttbar['mll'], bins=nBins, range=mllRange, color='red')\n",
    "axs.set_title('Invariant dilepton mass')\n",
    "\n",
    "#Met distribution\n",
    "fig, axs = plt.subplots(1, 1)\n",
    "axs.hist(dy['met'], bins=nBins, range=mllRange)\n",
    "axs.hist(ttbar['met'], bins=nBins, range=mllRange, color='red')\n",
    "axs.set_title('Missing transverse momentum')\n",
    "\n",
    "#Scatter distribution\n",
    "fig, axs = plt.subplots(1, 1)\n",
    "axs.scatter(ttbar['mll'], ttbar['met'], color='red')\n",
    "axs.scatter(dy['mll'], dy['met'])"
   ]
  },
  {
   "cell_type": "markdown",
   "metadata": {},
   "source": [
    "We can also quickly check the correlations between these different variables. For this, the easiest way is to plot the following correlation matrix, where the blue (red) color represents a positive (negative) correlation, respectively, whose value is typically represented between -1 and 1. In this case, the strongest correlation is obtained between the two momenta variables and between the pt2 and the mll variable, with a correlation of around 0.6."
   ]
  },
  {
   "cell_type": "code",
   "execution_count": 19,
   "metadata": {},
   "outputs": [
    {
     "name": "stderr",
     "output_type": "stream",
     "text": [
      "/opt/conda/lib/python3.6/site-packages/matplotlib/__init__.py:886: MatplotlibDeprecationWarning: \n",
      "examples.directory is deprecated; in the future, examples will be found relative to the 'datapath' directory.\n",
      "  \"found relative to the 'datapath' directory.\".format(key))\n"
     ]
    },
    {
     "data": {
      "image/png": "[encoded data removed]",
      "text/plain": [
       "<Figure size 432x288 with 2 Axes>"
      ]
     },
     "metadata": {
      "needs_background": "light"
     },
     "output_type": "display_data"
    }
   ],
   "source": [
    "import seaborn as sns\n",
    "\n",
    "corr = data.corr()\n",
    "ax = sns.heatmap(\n",
    "    corr, \n",
    "    vmin=-1, vmax=1, center=0,\n",
    "    cmap=sns.diverging_palette(20, 220, n=200),\n",
    "    square=True\n",
    ")\n",
    "ax.set_xticklabels(\n",
    "    ax.get_xticklabels(),\n",
    "    rotation=45,\n",
    "    horizontalalignment='right'\n",
    ");"
   ]
  },
  {
   "cell_type": "markdown",
   "metadata": {},
   "source": [
    "## Second step"
   ]
  },
  {
   "cell_type": "markdown",
   "metadata": {},
   "source": [
    "With this latest plot, we clearly see that we do have some overlap between the two datasets so the classification will probably not be perfect for many points. Let's try to do it anyway. We can now start with the binary classification itself. For this, let's first of all split our data into training and test datasets."
   ]
  },
  {
   "cell_type": "code",
   "execution_count": 5,
   "metadata": {},
   "outputs": [
    {
     "name": "stdout",
     "output_type": "stream",
     "text": [
      "Train length: 840, test length: 360\n"
     ]
    }
   ],
   "source": [
    "from sklearn.model_selection import train_test_split\n",
    "train, test = train_test_split(data, test_size=0.3)\n",
    "print(\"Train length: \" + str(len(train)) + \", test length: \" + str(len(test)))"
   ]
  },
  {
   "cell_type": "markdown",
   "metadata": {},
   "source": [
    "## Third step"
   ]
  },
  {
   "cell_type": "markdown",
   "metadata": {},
   "source": [
    "Now that we have our test and train datasets, we can start training a SVM using the training dataset using GridSearch to find the optimal parameters."
   ]
  },
  {
   "cell_type": "code",
   "execution_count": 6,
   "metadata": {},
   "outputs": [
    {
     "name": "stdout",
     "output_type": "stream",
     "text": [
      "Elapsed time: 142.343s\n",
      "Best estimator found by grid search:\n",
      "{'C': 10000.0, 'gamma': 0.01}\n"
     ]
    }
   ],
   "source": [
    "from sklearn import svm, preprocessing\n",
    "from sklearn.svm import SVC\n",
    "from sklearn.model_selection import GridSearchCV\n",
    "from time import time #To time the execution of our code\n",
    "import numpy as np\n",
    "\n",
    "t0 = time()\n",
    "\n",
    "xtrain = np.array(train[['pt1', 'pt2', 'mll', 'met']].values.tolist())\n",
    "ytrain = np.array(train['category'].values.tolist())\n",
    "xtrain = preprocessing.scale(xtrain) #This is needed to standardize a dataset as this speeds up a lot the grid search\n",
    "xtest = np.array(test[['pt1', 'pt2', 'mll', 'met']].values.tolist())\n",
    "ytest = np.array(test['category'].values.tolist())\n",
    "xtest = preprocessing.scale(xtest)\n",
    "\n",
    "#Grid search\n",
    "param_grid = {'C': [1E1, 1E2, 1E3, 1E4], 'gamma': [0.00001, 0.0001, 0.001, 0.01], }\n",
    "kernels = ('linear', 'rbf', 'poly') #Let's try different kernels as well\n",
    "clf = {} #Dictionnary to keep the best estimator for each kernel\n",
    "\n",
    "for kernel in kernels:\n",
    "    grid = GridSearchCV(SVC(kernel=kernel, class_weight='balanced'), param_grid, cv=3)\n",
    "    grid.fit(xtrain, ytrain)\n",
    "    clf[kernel] = grid.best_estimator_\n",
    "\n",
    "print(\"Elapsed time: %0.3fs\"%(time() - t0))\n",
    "print(\"Best estimator found by grid search:\")\n",
    "print(grid.best_params_)"
   ]
  },
  {
   "cell_type": "markdown",
   "metadata": {},
   "source": [
    "## Fourth step"
   ]
  },
  {
   "cell_type": "markdown",
   "metadata": {},
   "source": [
    "The only step missing consists in testing the best classifier obtained previously."
   ]
  },
  {
   "cell_type": "code",
   "execution_count": 7,
   "metadata": {},
   "outputs": [
    {
     "name": "stdout",
     "output_type": "stream",
     "text": [
      "==============================\n",
      "Kernel: linear\n",
      "==============================\n",
      "First 10 predictions: \n",
      "['ttbar' 'ttbar' 'dy' 'ttbar' 'dy' 'dy' 'dy' 'dy' 'dy' 'ttbar']\n",
      "Accuracy for our kernel linear in test: 79.17%\n",
      "==============================\n",
      "Kernel: rbf\n",
      "==============================\n",
      "First 10 predictions: \n",
      "['ttbar' 'ttbar' 'dy' 'ttbar' 'ttbar' 'dy' 'dy' 'dy' 'dy' 'ttbar']\n",
      "Accuracy for our kernel rbf in test: 90.56%\n",
      "==============================\n",
      "Kernel: poly\n",
      "==============================\n",
      "First 10 predictions: \n",
      "['ttbar' 'ttbar' 'dy' 'ttbar' 'dy' 'dy' 'dy' 'dy' 'dy' 'ttbar']\n",
      "Accuracy for our kernel poly in test: 74.72%\n"
     ]
    }
   ],
   "source": [
    "from sklearn.metrics import accuracy_score\n",
    "\n",
    "for kernel in kernels:\n",
    "    print(\"==============================\")\n",
    "    print(\"Kernel: \" + kernel)\n",
    "    print(\"==============================\")\n",
    "    ypred = clf[kernel].predict(xtest)\n",
    "    print(\"First 10 predictions: \")\n",
    "    print(ypred[:10])\n",
    "\n",
    "    print('Accuracy for our kernel ' + kernel + ' in test: ' +str(round(accuracy_score(ytest, ypred)*100, 2))+\"%\")"
   ]
  },
  {
   "cell_type": "markdown",
   "metadata": {},
   "source": [
    "From this study, based on only 600 events in order to reduce the computing time, but applied to a real physical problem with only a low discrimination (as seen on the previous plots, some points are quite hard to distinguish in the 2D plane) and two variables used (mll, met), we are able to separate the DY and ttbar processes with an accuracy up to 90.56% using the test dataset (and this efficiency drops to around 82% when using only two (mll and met) out of the 4 available variables). This has been achieved using a rbf kernel for the SVM method and the optimal parameters C=10000.0 and gamma = 0.01. The other two kernels considered (linear and poly) achieve an efficiency much lower in this particular case."
   ]
  }
 ],
 "metadata": {
  "kernelspec": {
   "display_name": "Python 3",
   "language": "python",
   "name": "python3"
  },
  "language_info": {
   "codemirror_mode": {
    "name": "ipython",
    "version": 3
   },
   "file_extension": ".py",
   "mimetype": "text/x-python",
   "name": "python",
   "nbconvert_exporter": "python",
   "pygments_lexer": "ipython3",
   "version": "3.6.7"
  }
 },
 "nbformat": 4,
 "nbformat_minor": 2
}
