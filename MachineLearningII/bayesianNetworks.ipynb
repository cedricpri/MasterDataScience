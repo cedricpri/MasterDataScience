{
 "cells": [
  {
   "cell_type": "markdown",
   "metadata": {},
   "source": [
    "# Bayesian networks"
   ]
  },
  {
   "cell_type": "markdown",
   "metadata": {},
   "source": [
    "Exercise done by Cédric Prieels for the Machine Learning II class.\n",
    "March 2020."
   ]
  },
  {
   "cell_type": "markdown",
   "metadata": {},
   "source": [
    "## Introduction"
   ]
  },
  {
   "cell_type": "markdown",
   "metadata": {},
   "source": [
    "The daily occurrence of several meteorological parameters observed in the Parayas’ airport during 10 years approximately (sample size 3286) will be used for this task. In particular, the occurrence of lluvia (precipitation), nieve (snow), granizo (hail), tormenta (storm), niebla (fog), rocío (dew), escarcha (frost), nieve en el suelo (snow on the ground), neblina (haze) and viento (maximum wind gust above 50 km/h), all of them included in the text file meteoro.txt, will be considered. Note that all the variables have been discretized reflecting the occurrence/absence (binary) of the corresponding parameter.\n",
    "\n",
    "Let's first of all download this meteoro.txt fil from Moodle, send it to the datasciencebhub and load it here in a data frame."
   ]
  },
  {
   "cell_type": "code",
   "execution_count": 67,
   "metadata": {},
   "outputs": [
    {
     "data": {
      "text/html": [
       "<table>\n",
       "<caption>A data.frame: 6 × 10</caption>\n",
       "<thead>\n",
       "\t<tr><th></th><th scope=col>lluvia</th><th scope=col>nieve</th><th scope=col>granizo</th><th scope=col>tormenta</th><th scope=col>niebla</th><th scope=col>rocio</th><th scope=col>escarcha</th><th scope=col>nieveSuelo</th><th scope=col>neblina</th><th scope=col>viento</th></tr>\n",
       "\t<tr><th></th><th scope=col>&lt;fct&gt;</th><th scope=col>&lt;fct&gt;</th><th scope=col>&lt;fct&gt;</th><th scope=col>&lt;fct&gt;</th><th scope=col>&lt;fct&gt;</th><th scope=col>&lt;fct&gt;</th><th scope=col>&lt;fct&gt;</th><th scope=col>&lt;fct&gt;</th><th scope=col>&lt;fct&gt;</th><th scope=col>&lt;fct&gt;</th></tr>\n",
       "</thead>\n",
       "<tbody>\n",
       "\t<tr><th scope=row>1</th><td>s</td><td>n</td><td>n</td><td>n</td><td>n</td><td>n</td><td>n</td><td>n</td><td>n</td><td>s</td></tr>\n",
       "\t<tr><th scope=row>2</th><td>s</td><td>n</td><td>n</td><td>n</td><td>n</td><td>n</td><td>n</td><td>n</td><td>n</td><td>s</td></tr>\n",
       "\t<tr><th scope=row>3</th><td>s</td><td>n</td><td>n</td><td>s</td><td>n</td><td>n</td><td>n</td><td>n</td><td>n</td><td>s</td></tr>\n",
       "\t<tr><th scope=row>4</th><td>s</td><td>n</td><td>n</td><td>n</td><td>n</td><td>n</td><td>n</td><td>n</td><td>n</td><td>s</td></tr>\n",
       "\t<tr><th scope=row>5</th><td>s</td><td>n</td><td>s</td><td>s</td><td>n</td><td>n</td><td>n</td><td>n</td><td>n</td><td>s</td></tr>\n",
       "\t<tr><th scope=row>6</th><td>s</td><td>n</td><td>s</td><td>s</td><td>n</td><td>n</td><td>n</td><td>n</td><td>n</td><td>s</td></tr>\n",
       "</tbody>\n",
       "</table>\n"
      ],
      "text/latex": [
       "A data.frame: 6 × 10\n",
       "\\begin{tabular}{r|llllllllll}\n",
       "  & lluvia & nieve & granizo & tormenta & niebla & rocio & escarcha & nieveSuelo & neblina & viento\\\\\n",
       "  & <fct> & <fct> & <fct> & <fct> & <fct> & <fct> & <fct> & <fct> & <fct> & <fct>\\\\\n",
       "\\hline\n",
       "\t1 & s & n & n & n & n & n & n & n & n & s\\\\\n",
       "\t2 & s & n & n & n & n & n & n & n & n & s\\\\\n",
       "\t3 & s & n & n & s & n & n & n & n & n & s\\\\\n",
       "\t4 & s & n & n & n & n & n & n & n & n & s\\\\\n",
       "\t5 & s & n & s & s & n & n & n & n & n & s\\\\\n",
       "\t6 & s & n & s & s & n & n & n & n & n & s\\\\\n",
       "\\end{tabular}\n"
      ],
      "text/markdown": [
       "\n",
       "A data.frame: 6 × 10\n",
       "\n",
       "| <!--/--> | lluvia &lt;fct&gt; | nieve &lt;fct&gt; | granizo &lt;fct&gt; | tormenta &lt;fct&gt; | niebla &lt;fct&gt; | rocio &lt;fct&gt; | escarcha &lt;fct&gt; | nieveSuelo &lt;fct&gt; | neblina &lt;fct&gt; | viento &lt;fct&gt; |\n",
       "|---|---|---|---|---|---|---|---|---|---|---|\n",
       "| 1 | s | n | n | n | n | n | n | n | n | s |\n",
       "| 2 | s | n | n | n | n | n | n | n | n | s |\n",
       "| 3 | s | n | n | s | n | n | n | n | n | s |\n",
       "| 4 | s | n | n | n | n | n | n | n | n | s |\n",
       "| 5 | s | n | s | s | n | n | n | n | n | s |\n",
       "| 6 | s | n | s | s | n | n | n | n | n | s |\n",
       "\n"
      ],
      "text/plain": [
       "  lluvia nieve granizo tormenta niebla rocio escarcha nieveSuelo neblina viento\n",
       "1 s      n     n       n        n      n     n        n          n       s     \n",
       "2 s      n     n       n        n      n     n        n          n       s     \n",
       "3 s      n     n       s        n      n     n        n          n       s     \n",
       "4 s      n     n       n        n      n     n        n          n       s     \n",
       "5 s      n     s       s        n      n     n        n          n       s     \n",
       "6 s      n     s       s        n      n     n        n          n       s     "
      ]
     },
     "metadata": {},
     "output_type": "display_data"
    }
   ],
   "source": [
    "df <- read.table('meteoro.txt', header = TRUE, sep = \"\\t\")\n",
    "head(df) #Display the first lines just loaded"
   ]
  },
  {
   "cell_type": "markdown",
   "metadata": {},
   "source": [
    "## Exercise 1"
   ]
  },
  {
   "cell_type": "markdown",
   "metadata": {},
   "source": [
    "Taking into account the graph given in the instructions obtain the factorization of the joint probability distribution and write it in the same format used by the function modelstring included in the R-package bnlearn"
   ]
  },
  {
   "cell_type": "code",
   "execution_count": 68,
   "metadata": {},
   "outputs": [],
   "source": [
    "myModelstring <- \"[viento][lluvia|viento][rocio|viento][niebla|viento:rocio][neblina|niebla][escarcha|rocio][tormenta|lluvia][granizo|tormenta][nieve|tormenta][nieveSuelo|nieve]\""
   ]
  },
  {
   "cell_type": "markdown",
   "metadata": {},
   "source": [
    "Then, define the DAG in R using the model defined in the previous point."
   ]
  },
  {
   "cell_type": "code",
   "execution_count": 88,
   "metadata": {},
   "outputs": [
    {
     "name": "stdout",
     "output_type": "stream",
     "text": [
      "\n",
      "  Random/Generated Bayesian network\n",
      "\n",
      "  model:\n",
      "   [viento][lluvia|viento][rocio|viento][escarcha|rocio][niebla|rocio:viento]\n",
      "   [tormenta|lluvia][granizo|tormenta][neblina|niebla][nieve|tormenta]\n",
      "   [nieveSuelo|nieve]\n",
      "  nodes:                                 10 \n",
      "  arcs:                                  10 \n",
      "    undirected arcs:                     0 \n",
      "    directed arcs:                       10 \n",
      "  average markov blanket size:           2.00 \n",
      "  average neighbourhood size:            2.00 \n",
      "  average branching factor:              1.00 \n",
      "\n",
      "  generation algorithm:                  Empty \n",
      "\n"
     ]
    },
    {
     "data": {
      "image/png": "[encoded data removed]",
      "text/plain": [
       "plot without title"
      ]
     },
     "metadata": {
      "image/png": {
       "height": 420,
       "width": 420
      }
     },
     "output_type": "display_data"
    }
   ],
   "source": [
    "library(bnlearn)\n",
    "\n",
    "dag <- model2network(myModelstring)\n",
    "plot(dag)\n",
    "print(dag)"
   ]
  },
  {
   "cell_type": "markdown",
   "metadata": {},
   "source": [
    "For each node, show the parents and childrens."
   ]
  },
  {
   "cell_type": "code",
   "execution_count": 70,
   "metadata": {},
   "outputs": [
    {
     "name": "stdout",
     "output_type": "stream",
     "text": [
      "\n",
      "\n",
      "Now considering the node...  escarcha\n",
      "   Parents:  rocio\n",
      "   Children:  \n",
      "\n",
      "Now considering the node...  granizo\n",
      "   Parents:  tormenta\n",
      "   Children:  \n",
      "\n",
      "Now considering the node...  lluvia\n",
      "   Parents:  viento\n",
      "   Children:  tormenta\n",
      "\n",
      "Now considering the node...  neblina\n",
      "   Parents:  niebla\n",
      "   Children:  \n",
      "\n",
      "Now considering the node...  niebla\n",
      "   Parents:  rocio \n",
      "   Parents:  viento\n",
      "   Children:  neblina\n",
      "\n",
      "Now considering the node...  nieve\n",
      "   Parents:  tormenta\n",
      "   Children:  nieveSuelo\n",
      "\n",
      "Now considering the node...  nieveSuelo\n",
      "   Parents:  nieve\n",
      "   Children:  \n",
      "\n",
      "Now considering the node...  rocio\n",
      "   Parents:  viento\n",
      "   Children:  escarcha \n",
      "   Children:  niebla\n",
      "\n",
      "Now considering the node...  tormenta\n",
      "   Parents:  lluvia\n",
      "   Children:  granizo \n",
      "   Children:  nieve\n",
      "\n",
      "Now considering the node...  viento\n",
      "   Parents:  \n",
      "   Children:  lluvia \n",
      "   Children:  niebla \n",
      "   Children:  rocio"
     ]
    }
   ],
   "source": [
    "for (node in nodes(dag)) {\n",
    "    cat(paste(\"\\n\\nNow considering the node... \", node))\n",
    "    cat(paste(\"\\n   Parents: \", parents(dag, node = node)))\n",
    "    cat(paste(\"\\n   Children: \", children(dag, node = node)))\n",
    "}"
   ]
  },
  {
   "cell_type": "markdown",
   "metadata": {},
   "source": [
    "Built a list with the types of structures of the graph and clasify them as serial, diverging or converging structure. TODO."
   ]
  },
  {
   "cell_type": "code",
   "execution_count": null,
   "metadata": {},
   "outputs": [],
   "source": []
  },
  {
   "cell_type": "markdown",
   "metadata": {},
   "source": [
    "Is there any v-structure in the graph? TOCHECK."
   ]
  },
  {
   "cell_type": "code",
   "execution_count": 80,
   "metadata": {},
   "outputs": [
    {
     "data": {
      "text/html": [
       "<table>\n",
       "<caption>A matrix: 0 × 3 of type chr</caption>\n",
       "<thead>\n",
       "\t<tr><th scope=col>X</th><th scope=col>Z</th><th scope=col>Y</th></tr>\n",
       "</thead>\n",
       "<tbody>\n",
       "</tbody>\n",
       "</table>\n"
      ],
      "text/latex": [
       "A matrix: 0 × 3 of type chr\n",
       "\\begin{tabular}{lll}\n",
       " X & Z & Y\\\\\n",
       "\\hline\n",
       "\\end{tabular}\n"
      ],
      "text/markdown": [
       "\n",
       "A matrix: 0 × 3 of type chr\n",
       "\n",
       "| X | Z | Y |\n",
       "|---|---|---|\n",
       "\n"
      ],
      "text/plain": [
       "     X Z Y"
      ]
     },
     "metadata": {},
     "output_type": "display_data"
    }
   ],
   "source": [
    "vstructs(dag)"
   ]
  },
  {
   "cell_type": "markdown",
   "metadata": {},
   "source": [
    "Introduce a link from haze to frost and other from hail to precipitation. For each case, what happens? Have you obtained a well-defined Bayesian Network? If not, why?"
   ]
  },
  {
   "cell_type": "code",
   "execution_count": 87,
   "metadata": {},
   "outputs": [
    {
     "data": {
      "image/png": "[encoded data removed]",
      "text/plain": [
       "plot without title"
      ]
     },
     "metadata": {
      "image/png": {
       "height": 420,
       "width": 420
      }
     },
     "output_type": "display_data"
    }
   ],
   "source": [
    "newdag <- set.arc(dag, from=\"neblina\", to=\"escarcha\")\n",
    "plot(newdag) #This works, no particular issue"
   ]
  },
  {
   "cell_type": "code",
   "execution_count": 91,
   "metadata": {},
   "outputs": [
    {
     "ename": "ERROR",
     "evalue": "Error in arc.operations(x = x, from = from, to = to, op = \"set\", check.cycles = check.cycles, : the resulting graph contains cycles.\n",
     "output_type": "error",
     "traceback": [
      "Error in arc.operations(x = x, from = from, to = to, op = \"set\", check.cycles = check.cycles, : the resulting graph contains cycles.\nTraceback:\n",
      "1. set.arc(dag, from = \"granizo\", to = \"lluvia\")",
      "2. arc.operations(x = x, from = from, to = to, op = \"set\", check.cycles = check.cycles, \n .     check.illegal = check.illegal, debug = debug)",
      "3. stop(\"the resulting graph contains cycles.\")"
     ]
    }
   ],
   "source": [
    "newdag <- set.arc(dag, from=\"granizo\", to=\"lluvia\")\n",
    "plot(newdag) #This does not work to avoid the apparition of a cycle in the graph (with the tormenta node)"
   ]
  },
  {
   "cell_type": "markdown",
   "metadata": {},
   "source": [
    "Obtain the Markov Blanquet for the node dew."
   ]
  },
  {
   "cell_type": "code",
   "execution_count": 92,
   "metadata": {},
   "outputs": [
    {
     "data": {
      "text/html": [
       "<style>\n",
       ".list-inline {list-style: none; margin:0; padding: 0}\n",
       ".list-inline>li {display: inline-block}\n",
       ".list-inline>li:not(:last-child)::after {content: \"\\00b7\"; padding: 0 .5ex}\n",
       "</style>\n",
       "<ol class=list-inline><li>'escarcha'</li><li>'niebla'</li><li>'viento'</li></ol>\n"
      ],
      "text/latex": [
       "\\begin{enumerate*}\n",
       "\\item 'escarcha'\n",
       "\\item 'niebla'\n",
       "\\item 'viento'\n",
       "\\end{enumerate*}\n"
      ],
      "text/markdown": [
       "1. 'escarcha'\n",
       "2. 'niebla'\n",
       "3. 'viento'\n",
       "\n",
       "\n"
      ],
      "text/plain": [
       "[1] \"escarcha\" \"niebla\"   \"viento\"  "
      ]
     },
     "metadata": {},
     "output_type": "display_data"
    }
   ],
   "source": [
    "mb(dag, \"rocio\")"
   ]
  },
  {
   "cell_type": "markdown",
   "metadata": {},
   "source": [
    "Introduce a link from precipitation to frog, Is there any change in the Markov Blanquet of dew? If yes, how does the Markov Blanquet change? TOCHECK."
   ]
  },
  {
   "cell_type": "code",
   "execution_count": 95,
   "metadata": {},
   "outputs": [
    {
     "data": {
      "text/html": [
       "<style>\n",
       ".list-inline {list-style: none; margin:0; padding: 0}\n",
       ".list-inline>li {display: inline-block}\n",
       ".list-inline>li:not(:last-child)::after {content: \"\\00b7\"; padding: 0 .5ex}\n",
       "</style>\n",
       "<ol class=list-inline><li>'escarcha'</li><li>'niebla'</li><li>'viento'</li></ol>\n"
      ],
      "text/latex": [
       "\\begin{enumerate*}\n",
       "\\item 'escarcha'\n",
       "\\item 'niebla'\n",
       "\\item 'viento'\n",
       "\\end{enumerate*}\n"
      ],
      "text/markdown": [
       "1. 'escarcha'\n",
       "2. 'niebla'\n",
       "3. 'viento'\n",
       "\n",
       "\n"
      ],
      "text/plain": [
       "[1] \"escarcha\" \"niebla\"   \"viento\"  "
      ]
     },
     "metadata": {},
     "output_type": "display_data"
    }
   ],
   "source": [
    "newdag <- set.arc(dag, from=\"lluvia\", to=\"niebla\")\n",
    "mb(dag, \"rocio\") #The markov blanquet does not appear to change"
   ]
  },
  {
   "cell_type": "markdown",
   "metadata": {},
   "source": [
    "## Exercise 2"
   ]
  },
  {
   "cell_type": "markdown",
   "metadata": {},
   "source": [
    "Considering the data of the text file meteoro.txt and the previously defined DAG, build the Bayesian Network usint the Bayesian method of parametric learning."
   ]
  },
  {
   "cell_type": "code",
   "execution_count": 96,
   "metadata": {},
   "outputs": [],
   "source": [
    "bn <- bn.fit(dag, data=df)"
   ]
  },
  {
   "cell_type": "markdown",
   "metadata": {},
   "source": [
    "Without using the factorization given by the DAG or the Bayesian Network learnt, what is the potential number of parameters of the joint probability function? TOCHECK."
   ]
  },
  {
   "cell_type": "code",
   "execution_count": 100,
   "metadata": {},
   "outputs": [],
   "source": [
    "#If we don't use any of these factorization methods, we would expect to have 2^nodes - 1 (Yes/no, 10 nodes = 1023) parameters"
   ]
  },
  {
   "cell_type": "markdown",
   "metadata": {},
   "source": [
    "Given the Bayesian Network, how much parameters the joint probability function has?"
   ]
  },
  {
   "cell_type": "code",
   "execution_count": 98,
   "metadata": {},
   "outputs": [
    {
     "data": {
      "text/html": [
       "21"
      ],
      "text/latex": [
       "21"
      ],
      "text/markdown": [
       "21"
      ],
      "text/plain": [
       "[1] 21"
      ]
     },
     "metadata": {},
     "output_type": "display_data"
    }
   ],
   "source": [
    "nparams(bn) #Number of parameters greatly reduced!"
   ]
  },
  {
   "cell_type": "markdown",
   "metadata": {},
   "source": [
    "Obtain the number of parameters for each of the local distribution corresponding to each node. TODO."
   ]
  },
  {
   "cell_type": "code",
   "execution_count": 106,
   "metadata": {},
   "outputs": [],
   "source": [
    "?nparams"
   ]
  },
  {
   "cell_type": "markdown",
   "metadata": {},
   "source": [
    "Obtain and show in graphics the tables of conditional probability of the nodes hail and frog."
   ]
  },
  {
   "cell_type": "code",
   "execution_count": 107,
   "metadata": {},
   "outputs": [
    {
     "data": {
      "text/plain": [
       "\n",
       "  Parameters of node granizo (multinomial distribution)\n",
       "\n",
       "Conditional probability table:\n",
       " \n",
       "       tormenta\n",
       "granizo           n           s\n",
       "      n 0.990262902 0.746341463\n",
       "      s 0.009737098 0.253658537"
      ]
     },
     "metadata": {},
     "output_type": "display_data"
    }
   ],
   "source": [
    "bn$granizo"
   ]
  },
  {
   "cell_type": "code",
   "execution_count": 108,
   "metadata": {},
   "outputs": [
    {
     "data": {
      "text/plain": [
       "\n",
       "  Parameters of node niebla (multinomial distribution)\n",
       "\n",
       "Conditional probability table:\n",
       " \n",
       ", , viento = n\n",
       "\n",
       "      rocio\n",
       "niebla           n           s\n",
       "     n 0.946455131 0.855345912\n",
       "     s 0.053544869 0.144654088\n",
       "\n",
       ", , viento = s\n",
       "\n",
       "      rocio\n",
       "niebla           n           s\n",
       "     n 0.995475113 0.937500000\n",
       "     s 0.004524887 0.062500000\n"
      ]
     },
     "metadata": {},
     "output_type": "display_data"
    }
   ],
   "source": [
    "bn$niebla"
   ]
  },
  {
   "cell_type": "markdown",
   "metadata": {},
   "source": [
    "## Exercise 3"
   ]
  },
  {
   "cell_type": "markdown",
   "metadata": {},
   "source": [
    "Once the Bayesian Network has been built we can obtain the probability of any variable or subset of variables given any evidence. In other words, we can make inference based on the network. TOCHECK."
   ]
  },
  {
   "cell_type": "markdown",
   "metadata": {},
   "source": [
    "Remember the concept of d-separación and take into account the DAG defined to reasonably and if the following questions are or not true:\n",
    "\n",
    "- **Snow and hail are independent a priori.** \n",
    "\n",
    "The path linking them is Nieve-Tormenta-Granizo, and there is no v-structures in the path. In this case, both are independant if any of the d-separation set (the observations given, here, an empty set) is in the separation path, so in this case, we cannot conclude that they are independant. FALSE.\n",
    "\n",
    "- **Snow and hail are independent given the storm.**\n",
    "\n",
    "The path linking them is Nieve-Tormenta-Granizo, and there is no v-structures in the path. In this case, both are independant if any of the d-separation set (here, Tormenta) is in the separation path, so in this case, we can conclude that snow and hail are independant given the storm. TRUE.\n",
    "\n",
    "- **Snow on the ground and haze are independent.**\n",
    "\n",
    "In this case, we have two paths to consider: path not passing through rocio and the one passing through rocio. Neither path has a v-structure so the justification and the answer is exactly the same as before: if the observation is in any path, they we can conclude they are independant. This is not the case here. FALSE.\n",
    "\n",
    "- **Snow on the ground and haze are independent given the storm.**\n",
    "\n",
    "In this case, we have two paths to consider: path not passing through rocio and the one passing through rocio. Neither path has a v-structure so the justification and the answer is exactly the same as before: if the observation is in any path, they we can conclude they are independant. This is the case here since tormenta is in both paths. TRUE.\n",
    "\n",
    "Let's check these answers with some code."
   ]
  },
  {
   "cell_type": "code",
   "execution_count": 111,
   "metadata": {},
   "outputs": [
    {
     "data": {
      "text/html": [
       "FALSE"
      ],
      "text/latex": [
       "FALSE"
      ],
      "text/markdown": [
       "FALSE"
      ],
      "text/plain": [
       "[1] FALSE"
      ]
     },
     "metadata": {},
     "output_type": "display_data"
    },
    {
     "data": {
      "text/html": [
       "TRUE"
      ],
      "text/latex": [
       "TRUE"
      ],
      "text/markdown": [
       "TRUE"
      ],
      "text/plain": [
       "[1] TRUE"
      ]
     },
     "metadata": {},
     "output_type": "display_data"
    },
    {
     "data": {
      "text/html": [
       "FALSE"
      ],
      "text/latex": [
       "FALSE"
      ],
      "text/markdown": [
       "FALSE"
      ],
      "text/plain": [
       "[1] FALSE"
      ]
     },
     "metadata": {},
     "output_type": "display_data"
    },
    {
     "data": {
      "text/html": [
       "TRUE"
      ],
      "text/latex": [
       "TRUE"
      ],
      "text/markdown": [
       "TRUE"
      ],
      "text/plain": [
       "[1] TRUE"
      ]
     },
     "metadata": {},
     "output_type": "display_data"
    }
   ],
   "source": [
    "dsep(dag, x = \"nieve\", y = \"granizo\")\n",
    "dsep(dag, x = \"nieve\", y = \"granizo\", z=\"tormenta\")\n",
    "dsep(dag, x = \"nieveSuelo\", y = \"neblina\")\n",
    "dsep(dag, x = \"nieveSuelo\", y = \"neblina\", z=\"tormenta\")"
   ]
  },
  {
   "cell_type": "markdown",
   "metadata": {},
   "source": [
    "NOTE: Using the exact inference, obtain the probability of the following phenomenon knowing that storm has occurred:\n",
    "- Precipitation occurs, P(lluvia=s|tormenta=s)\n",
    "- There are wind gusts greater than 50 Km/h, P(viento=s|tormenta=s)\n",
    "- Both of the previous, P(lluvia=s,viento=n|tormenta=s)\n",
    "- Based on the previous results and knowing the storm has occurred a particular day:\n",
    "    - Is the probability of rain/precipitation greater when storm occurs than any other day?\n",
    "    - How does the storm affect to the probability of occurence of wind gusts greater than 50 km/h? It increases or decreses? How much?"
   ]
  },
  {
   "cell_type": "code",
   "execution_count": 113,
   "metadata": {},
   "outputs": [
    {
     "name": "stderr",
     "output_type": "stream",
     "text": [
      "Loading required package: gRain\n",
      "\n",
      "Warning message in library(package, lib.loc = lib.loc, character.only = TRUE, logical.return = TRUE, :\n",
      "“there is no package called ‘gRain’”\n",
      "Installing package into ‘/home/jovyan/R/x86_64-pc-linux-gnu-library/3.4’\n",
      "(as ‘lib’ is unspecified)\n",
      "\n",
      "Warning message:\n",
      "“package ‘gRain’ is not available (for R version 3.4.4)”\n"
     ]
    },
    {
     "ename": "ERROR",
     "evalue": "Error in library(gRain): there is no package called ‘gRain’\n",
     "output_type": "error",
     "traceback": [
      "Error in library(gRain): there is no package called ‘gRain’\nTraceback:\n",
      "1. library(gRain)",
      "2. stop(txt, domain = NA)"
     ]
    }
   ],
   "source": [
    "if(!require(gRain)) install.packages(\"gRain\")\n",
    "library(gRain)"
   ]
  },
  {
   "cell_type": "markdown",
   "metadata": {},
   "source": [
    "Repeat the previous point but using inexact inference. For each probability obtain 100 estimations/realizations and draw a boxplot reflecting the spread of the probability estimation. Include also the exact value obtained in the previous point."
   ]
  }
 ],
 "metadata": {
  "kernelspec": {
   "display_name": "R",
   "language": "R",
   "name": "ir"
  },
  "language_info": {
   "codemirror_mode": "r",
   "file_extension": ".r",
   "mimetype": "text/x-r-source",
   "name": "R",
   "pygments_lexer": "r",
   "version": "3.4.4"
  }
 },
 "nbformat": 4,
 "nbformat_minor": 2
}
