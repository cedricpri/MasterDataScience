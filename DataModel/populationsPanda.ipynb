{
 "cells": [
  {
   "cell_type": "markdown",
   "metadata": {},
   "source": [
    "# Populations"
   ]
  },
  {
   "cell_type": "code",
   "execution_count": 1,
   "metadata": {},
   "outputs": [
    {
     "data": {
      "text/html": [
       "<div>\n",
       "<style scoped>\n",
       "    .dataframe tbody tr th:only-of-type {\n",
       "        vertical-align: middle;\n",
       "    }\n",
       "\n",
       "    .dataframe tbody tr th {\n",
       "        vertical-align: top;\n",
       "    }\n",
       "\n",
       "    .dataframe thead th {\n",
       "        text-align: right;\n",
       "    }\n",
       "</style>\n",
       "<table border=\"1\" class=\"dataframe\">\n",
       "  <thead>\n",
       "    <tr style=\"text-align: right;\">\n",
       "      <th></th>\n",
       "      <th>hare</th>\n",
       "      <th>lynx</th>\n",
       "      <th>carrot</th>\n",
       "    </tr>\n",
       "    <tr>\n",
       "      <th>year</th>\n",
       "      <th></th>\n",
       "      <th></th>\n",
       "      <th></th>\n",
       "    </tr>\n",
       "  </thead>\n",
       "  <tbody>\n",
       "    <tr>\n",
       "      <th>1900</th>\n",
       "      <td>30000.0</td>\n",
       "      <td>4000.0</td>\n",
       "      <td>48300</td>\n",
       "    </tr>\n",
       "    <tr>\n",
       "      <th>1901</th>\n",
       "      <td>47200.0</td>\n",
       "      <td>6100.0</td>\n",
       "      <td>48200</td>\n",
       "    </tr>\n",
       "    <tr>\n",
       "      <th>1902</th>\n",
       "      <td>70200.0</td>\n",
       "      <td>9800.0</td>\n",
       "      <td>41500</td>\n",
       "    </tr>\n",
       "    <tr>\n",
       "      <th>1903</th>\n",
       "      <td>77400.0</td>\n",
       "      <td>35200.0</td>\n",
       "      <td>38200</td>\n",
       "    </tr>\n",
       "    <tr>\n",
       "      <th>1904</th>\n",
       "      <td>36300.0</td>\n",
       "      <td>59400.0</td>\n",
       "      <td>40600</td>\n",
       "    </tr>\n",
       "  </tbody>\n",
       "</table>\n",
       "</div>"
      ],
      "text/plain": [
       "         hare     lynx  carrot\n",
       "year                          \n",
       "1900  30000.0   4000.0   48300\n",
       "1901  47200.0   6100.0   48200\n",
       "1902  70200.0   9800.0   41500\n",
       "1903  77400.0  35200.0   38200\n",
       "1904  36300.0  59400.0   40600"
      ]
     },
     "execution_count": 1,
     "metadata": {},
     "output_type": "execute_result"
    }
   ],
   "source": [
    "import pandas as pd\n",
    "\n",
    "#First, let's open the txt file and insert the data into a panda data frame\n",
    "df = pd.read_csv(\"populations.txt\", \n",
    "                sep='\\t',\n",
    "                names=['year', 'hare', 'lynx', 'carrot'],\n",
    "                index_col='year',\n",
    "                skiprows=1)\n",
    "df.head()"
   ]
  },
  {
   "cell_type": "markdown",
   "metadata": {},
   "source": [
    "## The mean and std of the populations of each species for the years in the period"
   ]
  },
  {
   "cell_type": "code",
   "execution_count": 2,
   "metadata": {},
   "outputs": [
    {
     "name": "stdout",
     "output_type": "stream",
     "text": [
      "==== MEAN ====\n",
      "hare      34080.952381\n",
      "lynx      20166.666667\n",
      "carrot    42400.000000\n",
      "dtype: float64\n",
      "\n",
      "==== STD ====\n",
      "hare      21413.981859\n",
      "lynx      16655.999920\n",
      "carrot     3404.555771\n",
      "dtype: float64\n"
     ]
    }
   ],
   "source": [
    "print(\"==== MEAN ====\")\n",
    "print(df.mean())\n",
    "\n",
    "print(\"\\n==== STD ====\")\n",
    "print(df.std())"
   ]
  },
  {
   "cell_type": "markdown",
   "metadata": {},
   "source": [
    "## Which year each species had the largest population"
   ]
  },
  {
   "cell_type": "code",
   "execution_count": 3,
   "metadata": {},
   "outputs": [
    {
     "name": "stdout",
     "output_type": "stream",
     "text": [
      "hare      1903\n",
      "lynx      1904\n",
      "carrot    1900\n",
      "dtype: int64\n"
     ]
    }
   ],
   "source": [
    "print(df.idxmax()) #Gives us the id of the maximal value for each column"
   ]
  },
  {
   "cell_type": "markdown",
   "metadata": {},
   "source": [
    "## Which species has the largest population for each year. (Hint: rank and idxmin)"
   ]
  },
  {
   "cell_type": "code",
   "execution_count": 4,
   "metadata": {},
   "outputs": [
    {
     "name": "stdout",
     "output_type": "stream",
     "text": [
      "year\n",
      "1900    carrot\n",
      "1901    carrot\n",
      "1902      hare\n",
      "1903      hare\n",
      "1904      lynx\n",
      "1905      lynx\n",
      "1906    carrot\n",
      "1907    carrot\n",
      "1908    carrot\n",
      "1909    carrot\n",
      "1910    carrot\n",
      "1911    carrot\n",
      "1912      hare\n",
      "1913      hare\n",
      "1914      hare\n",
      "1915      lynx\n",
      "1916    carrot\n",
      "1917    carrot\n",
      "1918    carrot\n",
      "1919    carrot\n",
      "1920    carrot\n",
      "dtype: object\n"
     ]
    }
   ],
   "source": [
    "print(df.idxmax(1)) #Same as before but for each line"
   ]
  },
  {
   "cell_type": "markdown",
   "metadata": {},
   "source": [
    "## Which years any of the populations is above 50000. (Hint: any)"
   ]
  },
  {
   "cell_type": "code",
   "execution_count": 5,
   "metadata": {},
   "outputs": [
    {
     "name": "stdout",
     "output_type": "stream",
     "text": [
      "Int64Index([1902, 1903, 1904, 1912, 1913, 1914, 1915], dtype='int64', name='year')\n"
     ]
    }
   ],
   "source": [
    "df2 = df[df > 50000].any(axis='columns') #This gives back True if any of the species of the given year is > 50.000\n",
    "print(df2[df2].index) #This prints only the years for which the df2 serie is True"
   ]
  },
  {
   "cell_type": "markdown",
   "metadata": {},
   "source": [
    "## The top 2 years for each species when they had the lowest populations. (Hint: rank)"
   ]
  },
  {
   "cell_type": "code",
   "execution_count": 47,
   "metadata": {},
   "outputs": [
    {
     "name": "stdout",
     "output_type": "stream",
     "text": [
      "year\n",
      "1917     7600.0\n",
      "1916    11200.0\n",
      "Name: hare, dtype: float64\n",
      "\n",
      "year\n",
      "1900    4000.0\n",
      "1901    6100.0\n",
      "Name: lynx, dtype: float64\n",
      "\n",
      "year\n",
      "1916    36700\n",
      "1903    38200\n",
      "Name: carrot, dtype: int64\n",
      "\n",
      "Top 2 years for the hare: year\n",
      "1916    11200.0\n",
      "1917     7600.0\n",
      "Name: hare, dtype: float64\n"
     ]
    }
   ],
   "source": [
    "#First, let's try one solution that works using the nsmallest method of panda dataframes\n",
    "print(df.nsmallest(2, ['hare'])['hare'])\n",
    "print()\n",
    "print(df.nsmallest(2, ['lynx'])['lynx'])\n",
    "print()\n",
    "print(df.nsmallest(2, ['carrot'])['carrot'])\n",
    "\n",
    "#Let's now try to use the rank method as suggested for one of the species\n",
    "print()\n",
    "rank = df.rank(axis=0, ascending=True)\n",
    "print(\"Top 2 years for the hare: \" + str(df['hare'].loc[rank['hare'].isin([1.0, 2.0])]))"
   ]
  },
  {
   "cell_type": "markdown",
   "metadata": {},
   "source": [
    "## Compare (plot) the change in hare population (see help(np.gradient)) and the number of lynxes. Check correlation (see help(df.corr))"
   ]
  },
  {
   "cell_type": "code",
   "execution_count": 48,
   "metadata": {},
   "outputs": [],
   "source": [
    "import numpy as np\n",
    "import matplotlib.pyplot as pyplot\n",
    "\n",
    "%matplotlib inline"
   ]
  },
  {
   "cell_type": "code",
   "execution_count": 63,
   "metadata": {},
   "outputs": [
    {
     "data": {
      "image/png": "[encoded data removed]",
      "text/plain": [
       "<Figure size 432x288 with 1 Axes>"
      ]
     },
     "metadata": {
      "needs_background": "light"
     },
     "output_type": "display_data"
    },
    {
     "name": "stdout",
     "output_type": "stream",
     "text": [
      "\n",
      "Correlation matrix between the change in hare population and number of lynxes... \n",
      "            hare      lynx    carrot\n",
      "hare    1.000000  0.071892 -0.016604\n",
      "lynx    0.071892  1.000000 -0.680577\n",
      "carrot -0.016604 -0.680577  1.000000\n"
     ]
    }
   ],
   "source": [
    "pyplot.plot(df.index, df['lynx'])\n",
    "pyplot.plot(df.index, np.gradient(df['hare']))\n",
    "pyplot.legend(['Lynx', 'Hare gradient'])\n",
    "pyplot.show()\n",
    "\n",
    "print(\"\\nCorrelation matrix between the change in hare population and number of lynxes... \\n\" + str(df.corr()))"
   ]
  }
 ],
 "metadata": {
  "kernelspec": {
   "display_name": "Python 3",
   "language": "python",
   "name": "python3"
  },
  "language_info": {
   "codemirror_mode": {
    "name": "ipython",
    "version": 3
   },
   "file_extension": ".py",
   "mimetype": "text/x-python",
   "name": "python",
   "nbconvert_exporter": "python",
   "pygments_lexer": "ipython3",
   "version": "3.6.6"
  }
 },
 "nbformat": 4,
 "nbformat_minor": 4
}
