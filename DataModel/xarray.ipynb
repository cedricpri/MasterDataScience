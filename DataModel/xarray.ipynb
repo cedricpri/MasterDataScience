{
 "cells": [
  {
   "cell_type": "markdown",
   "metadata": {},
   "source": [
    "**Agenda**\n",
    "\n",
    "- HadCRUT4\n",
    "- netCDF\n",
    "- CF Conventions\n",
    "- netCDF4-python\n",
    "\n",
    "**Install required libraries**\n",
    "\n",
    "`conda install netCDF4 xarray numpy matplotlib`"
   ]
  },
  {
   "cell_type": "markdown",
   "metadata": {},
   "source": [
    "# Introduction\n",
    "\n",
    "We have learned numpy, a low level tool to deal with multidimensional arrays. Today we will see how higher level tools integrate with numpy to work with multidimensional data in the context of meteorology.\n",
    "\n",
    "Also, we have worked with Numpy arrays in memory, these arrays disappear when the program ends. We will see how to persist multidimensional data using netCDF but don't forget that numpy arrays can be saved to disk using [numpy.save](https://docs.scipy.org/doc/numpy/reference/generated/numpy.save.html). The binary format is described [here](https://docs.scipy.org/doc/numpy/reference/generated/numpy.lib.format.html#module-numpy.lib.format)."
   ]
  },
  {
   "cell_type": "markdown",
   "metadata": {},
   "source": [
    "## HadCRUT4 Dataset\n",
    "\n",
    " HadCRUT4 is a global temperature dataset, providing gridded temperature anomalies across the world as well as averages for the hemispheres and the globe as a whole. CRUTEM4 and HadSST3 are the land and ocean components of this overall dataset, respectively.\n",
    "\n",
    "These datasets have been developed by the Climatic Research Unit (University of East Anglia) in conjunction with the Hadley Centre (UK Met Office), apart from the sea surface temperature (SST) dataset which was developed solely by the Hadley Centre. These datasets will be updated at roughly monthly intervals into the future. Hemispheric and global averages as monthly and annual values are available as separate files. \n",
    "\n",
    "- [HadCRUT4 Dataset](https://crudata.uea.ac.uk/cru/data/temperature/)\n",
    "- [CRUTEM4 Dataset](https://www.metoffice.gov.uk/hadobs/crutem4/)\n",
    "- [HadSST3 Hadley Centre SST Dataset](https://www.metoffice.gov.uk/hadobs/hadsst3/)"
   ]
  },
  {
   "cell_type": "markdown",
   "metadata": {},
   "source": [
    "## [netCDF](https://www.unidata.ucar.edu/software/netcdf/docs/netcdf_introduction.html)\n",
    "\n",
    "The Network Common Data Form, or netCDF, is an interface to a library of data access functions for storing and retrieving data in the form of arrays. An array is an n-dimensional (where n is 0, 1, 2, ...) rectangular structure containing items which all have the same data type (e.g., 8-bit character, 32-bit integer). A scalar (simple single value) is a 0-dimensional array.\n",
    "\n",
    "NetCDF is an abstraction that supports a view of data as a collection of self-describing, portable objects that can be accessed through a simple interface. Array values may be accessed directly, without knowing details of how the data are stored. Auxiliary information about the data, such as what units are used, may be stored with the data. Generic utilities and application programs can access netCDF datasets and transform, combine, analyze, or display specified fields of the data. The development of such applications has led to improved accessibility of data and improved re-usability of software for array-oriented data management, analysis, and display."
   ]
  },
  {
   "cell_type": "code",
   "execution_count": null,
   "metadata": {},
   "outputs": [],
   "source": [
    "!conda install netCDF4 xarray numpy matplotlib\n",
    "!ncdump -h 'absolute.nc'"
   ]
  },
  {
   "cell_type": "markdown",
   "metadata": {},
   "source": [
    "**Answer the following questions related to `absolute.nc`**\n",
    "\n",
    "- How many dimensions has the dataset? Which are their names?\n",
    "3: lat, long, time\n",
    "\n",
    "\n",
    "- How many variables has the dataset? Which are their names?\n",
    "4\n",
    "\n",
    "\n",
    "- How many coordinate variables has the dataset? Which are their names?\n",
    "\n",
    "\n",
    "\n",
    "- Which units are used for measuring temperature?\n",
    "En Celsius\n",
    "\n",
    "\n",
    "- How many temperature values (tem variable) has `absolute.nc` got?\n",
    "\n",
    "\n",
    "\n",
    "- Why there are only 12 values in the time variable if data is monthly?\n",
    "\n",
    "\n"
   ]
  },
  {
   "cell_type": "code",
   "execution_count": null,
   "metadata": {
    "scrolled": false
   },
   "outputs": [],
   "source": [
    "!ncdump -h 'HadCRUT.4.6.0.0.median.nc'"
   ]
  },
  {
   "cell_type": "markdown",
   "metadata": {},
   "source": [
    "[Chunking](https://www.unidata.ucar.edu/blogs/developer/entry/chunking_data_why_it_matters)"
   ]
  },
  {
   "cell_type": "markdown",
   "metadata": {},
   "source": [
    "### Remote netCDF\n",
    "\n",
    "See [OpenDAP (Data Access Protocol)](https://www.unidata.ucar.edu/software/netcdf/docs/dap2.html)"
   ]
  },
  {
   "cell_type": "code",
   "execution_count": null,
   "metadata": {
    "scrolled": true
   },
   "outputs": [],
   "source": [
    "!ncdump -h 'https://thredds.ucar.edu/thredds/dodsC/nws/metar/ncdecoded/files/Surface_METAR_20191007_0000.nc'"
   ]
  },
  {
   "cell_type": "markdown",
   "metadata": {},
   "source": [
    "## CF conventions\n",
    "\n",
    "[CF conventions](http://cfconventions.org/) are designed to promote the processing and sharing of files created with the NetCDF API. The CF conventions are increasingly gaining acceptance and have been adopted by a number of projects and groups as a primary standard. The conventions define metadata that provide a definitive description of what the data in each variable represents, and the spatial and temporal properties of the data. This enables users of data from different sources to decide which quantities are comparable, and facilitates building applications with powerful extraction, regridding, and display capabilities."
   ]
  },
  {
   "cell_type": "markdown",
   "metadata": {},
   "source": [
    "## netCDF4-python\n",
    "\n",
    "[netcdf4-python](http://unidata.github.io/netcdf4-python/netCDF4/index.html) is a Python interface to the netCDF C library.\n",
    "\n",
    "netCDF version 4 has many features not found in earlier versions of the library and is implemented on top of HDF5. This module can read and write files in both the new netCDF 4 and the old netCDF 3 format, and can create files that are readable by HDF5 clients. The API modelled after Scientific.IO.NetCDF, and should be familiar to users of that module."
   ]
  },
  {
   "cell_type": "code",
   "execution_count": 1,
   "metadata": {},
   "outputs": [],
   "source": [
    "import netCDF4 as nc4\n",
    "import numpy as np\n",
    "import matplotlib.pyplot as plt\n",
    "\n",
    "%matplotlib inline"
   ]
  },
  {
   "cell_type": "code",
   "execution_count": 3,
   "metadata": {},
   "outputs": [
    {
     "name": "stdout",
     "output_type": "stream",
     "text": [
      "<class 'netCDF4._netCDF4.Dataset'>\n",
      "root group (NETCDF4 data model, file format HDF5):\n",
      "    title: HadCRUT4 near-surface temperature ensemble data - ensemble median\n",
      "    institution: Met Office Hadley Centre / Climatic Research Unit, University of East Anglia\n",
      "    history: Updated at 25/10/2019 16:51:06\n",
      "    source: CRUTEM.4.6.0.0, HadSST.3.1.1.0\n",
      "    comment: \n",
      "    reference: Morice, C. P., J. J. Kennedy, N. A. Rayner, and P. D. Jones (2012), Quantifying uncertainties in global and regional temperature change using an ensemble of observational estimates: The HadCRUT4 dataset, J. Geophys. Res., doi:10.1029/2011JD017187\n",
      "    version: HadCRUT.4.6.0.0\n",
      "    Conventions: CF-1.0\n",
      "    ensemble_members: 100\n",
      "    ensemble_member_index: 0\n",
      "    dimensions(sizes): latitude(36), longitude(72), field_status_string_length(1), time(2037)\n",
      "    variables(dimensions): float32 \u001b[4mlatitude\u001b[0m(latitude), float32 \u001b[4mlongitude\u001b[0m(longitude), float32 \u001b[4mtime\u001b[0m(time), float32 \u001b[4mtemperature_anomaly\u001b[0m(time,latitude,longitude), |S1 \u001b[4mfield_status\u001b[0m(time,field_status_string_length)\n",
      "    groups: \n",
      "\n"
     ]
    }
   ],
   "source": [
    "ds = nc4.Dataset('HadCRUT.4.6.0.0.median.nc')\n",
    "print(ds)"
   ]
  },
  {
   "cell_type": "code",
   "execution_count": 81,
   "metadata": {},
   "outputs": [
    {
     "name": "stdout",
     "output_type": "stream",
     "text": [
      "OrderedDict([('latitude', <class 'netCDF4._netCDF4.Variable'>\n",
      "float32 latitude(latitude)\n",
      "    standard_name: latitude\n",
      "    long_name: latitude\n",
      "    point_spacing: even\n",
      "    units: degrees_north\n",
      "    axis: Y\n",
      "unlimited dimensions: \n",
      "current shape = (36,)\n",
      "filling on, default _FillValue of 9.969209968386869e+36 used\n",
      "), ('longitude', <class 'netCDF4._netCDF4.Variable'>\n",
      "float32 longitude(longitude)\n",
      "    standard_name: longitude\n",
      "    long_name: longitude\n",
      "    point_spacing: even\n",
      "    units: degrees_east\n",
      "    axis: X\n",
      "unlimited dimensions: \n",
      "current shape = (72,)\n",
      "filling on, default _FillValue of 9.969209968386869e+36 used\n",
      "), ('time', <class 'netCDF4._netCDF4.Variable'>\n",
      "float32 time(time)\n",
      "    standard_name: time\n",
      "    long_name: time\n",
      "    units: days since 1850-1-1 00:00:00\n",
      "    calendar: gregorian\n",
      "    start_year: 1850\n",
      "    end_year: 2019\n",
      "    start_month: 1\n",
      "    end_month: 9\n",
      "    axis: T\n",
      "unlimited dimensions: time\n",
      "current shape = (2037,)\n",
      "filling on, default _FillValue of 9.969209968386869e+36 used\n",
      "), ('temperature_anomaly', <class 'netCDF4._netCDF4.Variable'>\n",
      "float32 temperature_anomaly(time, latitude, longitude)\n",
      "    long_name: near_surface_temperature_anomaly\n",
      "    units: K\n",
      "    missing_value: -1e+30\n",
      "    _FillValue: -1e+30\n",
      "    reference_period: [1961 1990]\n",
      "unlimited dimensions: time\n",
      "current shape = (2037, 36, 72)\n",
      "filling on), ('field_status', <class 'netCDF4._netCDF4.Variable'>\n",
      "|S1 field_status(time, field_status_string_length)\n",
      "    long_name: field_status\n",
      "unlimited dimensions: time\n",
      "current shape = (2037, 1)\n",
      "filling on, default _FillValue of \u0000 used\n",
      ")])\n"
     ]
    }
   ],
   "source": [
    "print(ds.variables)"
   ]
  },
  {
   "cell_type": "code",
   "execution_count": 82,
   "metadata": {},
   "outputs": [
    {
     "name": "stdout",
     "output_type": "stream",
     "text": [
      "<class 'netCDF4._netCDF4.Variable'>\n",
      "float32 temperature_anomaly(time, latitude, longitude)\n",
      "    long_name: near_surface_temperature_anomaly\n",
      "    units: K\n",
      "    missing_value: -1e+30\n",
      "    _FillValue: -1e+30\n",
      "    reference_period: [1961 1990]\n",
      "unlimited dimensions: time\n",
      "current shape = (2037, 36, 72)\n",
      "filling on\n"
     ]
    }
   ],
   "source": [
    "ta = ds.variables['temperature_anomaly']\n",
    "print(ta)"
   ]
  },
  {
   "cell_type": "code",
   "execution_count": 83,
   "metadata": {},
   "outputs": [
    {
     "data": {
      "text/plain": [
       "<matplotlib.collections.QuadMesh at 0x7f61b6116dd0>"
      ]
     },
     "execution_count": 83,
     "metadata": {},
     "output_type": "execute_result"
    },
    {
     "data": {
      "image/png": "[encoded data removed]",
      "text/plain": [
       "<Figure size 432x288 with 1 Axes>"
      ]
     },
     "metadata": {
      "needs_background": "light"
     },
     "output_type": "display_data"
    }
   ],
   "source": [
    "plt.pcolormesh(ta[-1,:,:])"
   ]
  },
  {
   "cell_type": "code",
   "execution_count": 84,
   "metadata": {},
   "outputs": [
    {
     "name": "stdout",
     "output_type": "stream",
     "text": [
      "Type: <class 'numpy.ndarray'>\n",
      "Shape: (2037, 36, 72)\n",
      "Ndim: 3\n",
      "Dtype: float32\n",
      "Flags:\n",
      "  C_CONTIGUOUS : True\n",
      "  F_CONTIGUOUS : False\n",
      "  OWNDATA : False\n",
      "  WRITEABLE : True\n",
      "  ALIGNED : True\n",
      "  WRITEBACKIFCOPY : False\n",
      "  UPDATEIFCOPY : False\n",
      "\n"
     ]
    }
   ],
   "source": [
    "ta_data = ta[:].data\n",
    "print(f'Type: {type(ta_data)}')\n",
    "print(f'Shape: {ta_data.shape}')\n",
    "print(f'Ndim: {ta_data.ndim}')\n",
    "print(f'Dtype: {ta_data.dtype}')\n",
    "print(f'Flags:\\n{ta_data.flags}')"
   ]
  },
  {
   "cell_type": "markdown",
   "metadata": {},
   "source": [
    "**Exercise**\n",
    "\n",
    "- Print the value of the maximun anomaly\n",
    "- Print the indices of the numpy array where the value is located (check with `ta_data[X,Y,Z]`)\n",
    "- Convert from Kelvin to Celsius and print the maximun anomaly (`C=K-273.15`)"
   ]
  },
  {
   "cell_type": "code",
   "execution_count": 85,
   "metadata": {},
   "outputs": [
    {
     "data": {
      "text/plain": [
       "20.620308"
      ]
     },
     "execution_count": 85,
     "metadata": {},
     "output_type": "execute_result"
    }
   ],
   "source": [
    "ta_data.max()"
   ]
  },
  {
   "cell_type": "code",
   "execution_count": 119,
   "metadata": {},
   "outputs": [
    {
     "name": "stdout",
     "output_type": "stream",
     "text": [
      "1461468\n",
      "(563, 30, 12)\n"
     ]
    }
   ],
   "source": [
    "print(ta_data.argmax()) #Index of the flattened array, does not help much\n",
    "len1 = len(ta_data[:,0,0])\n",
    "len2 = len(ta_data[0,:,0])\n",
    "len3 = len(ta_data[0,0,:])\n",
    "print(np.unravel_index(ta_data.argmax(), (len1,len2,len3) ))"
   ]
  },
  {
   "cell_type": "code",
   "execution_count": 126,
   "metadata": {},
   "outputs": [
    {
     "name": "stdout",
     "output_type": "stream",
     "text": [
      "293.77K\n"
     ]
    }
   ],
   "source": [
    "print(str(round(ta_data.max() + 273.15, 2)) + \"K\")"
   ]
  },
  {
   "cell_type": "markdown",
   "metadata": {},
   "source": [
    "## xarray\n",
    "\n",
    "[xarray](http://xarray.pydata.org/en/stable/index.html) (formerly xray) is an open source project and Python package that makes working with labelled multi-dimensional arrays simple, efficient, and fun!\n",
    "\n",
    "Xarray introduces labels in the form of dimensions, coordinates and attributes on top of raw NumPy-like arrays, which allows for a more intuitive, more concise, and less error-prone developer experience. The package includes a large and growing library of domain-agnostic functions for advanced analytics and visualization with these data structures.\n",
    "\n",
    "Xarray is inspired by and borrows heavily from pandas, the popular data analysis package focused on labelled tabular data. It is particularly tailored to working with netCDF files, which were the source of xarray’s data model, and integrates tightly with dask for parallel computing."
   ]
  },
  {
   "cell_type": "code",
   "execution_count": 4,
   "metadata": {},
   "outputs": [],
   "source": [
    "import xarray as xr"
   ]
  },
  {
   "cell_type": "code",
   "execution_count": 5,
   "metadata": {},
   "outputs": [
    {
     "name": "stdout",
     "output_type": "stream",
     "text": [
      "<xarray.Dataset>\n",
      "Dimensions:              (latitude: 36, longitude: 72, time: 2037)\n",
      "Coordinates:\n",
      "  * latitude             (latitude) float32 -87.5 -82.5 -77.5 ... 77.5 82.5 87.5\n",
      "  * longitude            (longitude) float32 -177.5 -172.5 ... 172.5 177.5\n",
      "  * time                 (time) datetime64[ns] 1850-01-16T12:00:00 ... 2019-09-16\n",
      "Data variables:\n",
      "    temperature_anomaly  (time, latitude, longitude) float32 ...\n",
      "    field_status         (time) |S1 ...\n",
      "Attributes:\n",
      "    title:                  HadCRUT4 near-surface temperature ensemble data -...\n",
      "    institution:            Met Office Hadley Centre / Climatic Research Unit...\n",
      "    history:                Updated at 25/10/2019 16:51:06\n",
      "    source:                 CRUTEM.4.6.0.0, HadSST.3.1.1.0\n",
      "    comment:                \n",
      "    reference:              Morice, C. P., J. J. Kennedy, N. A. Rayner, and P...\n",
      "    version:                HadCRUT.4.6.0.0\n",
      "    Conventions:            CF-1.0\n",
      "    ensemble_members:       100\n",
      "    ensemble_member_index:  0\n"
     ]
    }
   ],
   "source": [
    "hadcrut4 = xr.open_dataset('HadCRUT.4.6.0.0.median.nc')\n",
    "print(hadcrut4)"
   ]
  },
  {
   "cell_type": "markdown",
   "metadata": {},
   "source": [
    "### DataSet\n",
    "\n",
    "[DataSet](http://xarray.pydata.org/en/stable/data-structures.html#dataset) is xarray’s multi-dimensional equivalent of a DataFrame. It is a dict-like container of labeled arrays (DataArray objects) with aligned dimensions. It is designed as an in-memory representation of the data model from the netCDF file format.\n",
    "\n",
    "### DataArray\n",
    "\n",
    "[DataArray](http://xarray.pydata.org/en/stable/data-structures.html#dataarray) is xarray’s implementation of a labeled, multi-dimensional array. It has several key properties:\n",
    "\n",
    "- values: a numpy.ndarray holding the array’s values\n",
    "- dims: dimension names for each axis (e.g., ('x', 'y', 'z'))\n",
    "- coords: a dict-like container of arrays (coordinates) that label each point (e.g., 1-dimensional arrays of numbers, datetime objects or strings)\n",
    "- attrs: dict to hold arbitrary metadata (attributes)"
   ]
  },
  {
   "cell_type": "code",
   "execution_count": 6,
   "metadata": {},
   "outputs": [
    {
     "name": "stdout",
     "output_type": "stream",
     "text": [
      "<class 'xarray.core.dataset.Dataset'>\n",
      "<class 'xarray.core.dataarray.DataArray'>\n",
      "<class 'xarray.core.dataarray.DataArray'>\n",
      "<class 'xarray.core.dataarray.DataArray'>\n",
      "<class 'xarray.core.dataarray.DataArray'>\n"
     ]
    }
   ],
   "source": [
    "print(type(hadcrut4))\n",
    "print(type(hadcrut4.latitude))\n",
    "print(type(hadcrut4.longitude))\n",
    "print(type(hadcrut4.time))\n",
    "print(type(hadcrut4.temperature_anomaly))"
   ]
  },
  {
   "cell_type": "code",
   "execution_count": 7,
   "metadata": {},
   "outputs": [
    {
     "name": "stdout",
     "output_type": "stream",
     "text": [
      "<xarray.DataArray 'time' (time: 2037)>\n",
      "array(['1850-01-16T12:00:00.000000000', '1850-02-15T00:00:00.000000000',\n",
      "       '1850-03-16T12:00:00.000000000', ..., '2019-07-16T12:00:00.000000000',\n",
      "       '2019-08-16T12:00:00.000000000', '2019-09-16T00:00:00.000000000'],\n",
      "      dtype='datetime64[ns]')\n",
      "Coordinates:\n",
      "  * time     (time) datetime64[ns] 1850-01-16T12:00:00 1850-02-15 ... 2019-09-16\n",
      "Attributes:\n",
      "    standard_name:  time\n",
      "    long_name:      time\n",
      "    start_year:     1850\n",
      "    end_year:       2019\n",
      "    start_month:    1\n",
      "    end_month:      9\n",
      "    axis:           T\n"
     ]
    }
   ],
   "source": [
    "print(hadcrut4.time) # Note how xarray interprets time values!"
   ]
  },
  {
   "cell_type": "code",
   "execution_count": 8,
   "metadata": {},
   "outputs": [
    {
     "name": "stdout",
     "output_type": "stream",
     "text": [
      "<xarray.DataArray 'temperature_anomaly' (time: 2037, latitude: 36, longitude: 72)>\n",
      "[5279904 values with dtype=float32]\n",
      "Coordinates:\n",
      "  * latitude   (latitude) float32 -87.5 -82.5 -77.5 -72.5 ... 77.5 82.5 87.5\n",
      "  * longitude  (longitude) float32 -177.5 -172.5 -167.5 ... 167.5 172.5 177.5\n",
      "  * time       (time) datetime64[ns] 1850-01-16T12:00:00 ... 2019-09-16\n",
      "Attributes:\n",
      "    long_name:         near_surface_temperature_anomaly\n",
      "    units:             K\n",
      "    reference_period:  [1961 1990]\n"
     ]
    }
   ],
   "source": [
    "print(hadcrut4.temperature_anomaly)"
   ]
  },
  {
   "cell_type": "code",
   "execution_count": 9,
   "metadata": {},
   "outputs": [
    {
     "name": "stdout",
     "output_type": "stream",
     "text": [
      "[[[       nan        nan        nan ...        nan        nan        nan]\n",
      "  [       nan        nan        nan ...        nan        nan        nan]\n",
      "  [       nan        nan        nan ...        nan        nan        nan]\n",
      "  ...\n",
      "  [       nan        nan        nan ...        nan        nan        nan]\n",
      "  [       nan        nan        nan ...        nan        nan        nan]\n",
      "  [       nan        nan        nan ...        nan        nan        nan]]\n",
      "\n",
      " [[       nan        nan        nan ...        nan        nan        nan]\n",
      "  [       nan        nan        nan ...        nan        nan        nan]\n",
      "  [       nan        nan        nan ...        nan        nan        nan]\n",
      "  ...\n",
      "  [       nan        nan        nan ...        nan        nan        nan]\n",
      "  [       nan        nan        nan ...        nan        nan        nan]\n",
      "  [       nan        nan        nan ...        nan        nan        nan]]\n",
      "\n",
      " [[       nan        nan        nan ...        nan        nan        nan]\n",
      "  [       nan        nan        nan ...        nan        nan        nan]\n",
      "  [       nan        nan        nan ...        nan        nan        nan]\n",
      "  ...\n",
      "  [       nan        nan        nan ...        nan        nan        nan]\n",
      "  [       nan        nan        nan ...        nan        nan        nan]\n",
      "  [       nan        nan        nan ...        nan        nan        nan]]\n",
      "\n",
      " ...\n",
      "\n",
      " [[       nan        nan        nan ...        nan        nan        nan]\n",
      "  [       nan        nan        nan ...        nan        nan        nan]\n",
      "  [       nan        nan        nan ... 4.844532          nan        nan]\n",
      "  ...\n",
      "  [       nan        nan 1.7500067  ...        nan        nan        nan]\n",
      "  [1.1905117         nan 2.381827   ...        nan        nan 0.3586197 ]\n",
      "  [       nan 1.8333333  1.9709091  ... 2.5658333         nan        nan]]\n",
      "\n",
      " [[       nan        nan        nan ...        nan        nan        nan]\n",
      "  [       nan        nan        nan ...        nan        nan        nan]\n",
      "  [       nan        nan        nan ... 3.570466          nan        nan]\n",
      "  ...\n",
      "  [       nan 0.19640112        nan ...        nan        nan        nan]\n",
      "  [0.3069799  0.27407658 1.6015092  ...        nan        nan 0.33164692]\n",
      "  [       nan 1.9009868  1.8400334  ... 0.90530765 0.8160882         nan]]\n",
      "\n",
      " [[       nan        nan        nan ...        nan        nan        nan]\n",
      "  [       nan        nan        nan ...        nan        nan        nan]\n",
      "  [       nan        nan        nan ...        nan        nan        nan]\n",
      "  ...\n",
      "  [       nan 3.6604323  4.1662283  ...        nan        nan        nan]\n",
      "  [0.17424552 0.20000018 0.19855858 ...        nan        nan        nan]\n",
      "  [       nan        nan        nan ... 0.22017545 0.4018518  0.36932385]]]\n"
     ]
    }
   ],
   "source": [
    "print(hadcrut4.temperature_anomaly.values) # numpy arrayv"
   ]
  },
  {
   "cell_type": "markdown",
   "metadata": {},
   "source": [
    "### matplotlib integration"
   ]
  },
  {
   "cell_type": "code",
   "execution_count": 10,
   "metadata": {},
   "outputs": [
    {
     "name": "stdout",
     "output_type": "stream",
     "text": [
      "<xarray.DataArray 'temperature_anomaly' (latitude: 36, longitude: 72)>\n",
      "array([[     nan,      nan,      nan, ...,      nan,      nan,      nan],\n",
      "       [     nan,      nan,      nan, ...,      nan,      nan,      nan],\n",
      "       [     nan,      nan,      nan, ...,      nan,      nan,      nan],\n",
      "       ...,\n",
      "       [     nan, 3.660432, 4.166228, ...,      nan,      nan,      nan],\n",
      "       [0.174246, 0.2     , 0.198559, ...,      nan,      nan,      nan],\n",
      "       [     nan,      nan,      nan, ..., 0.220175, 0.401852, 0.369324]],\n",
      "      dtype=float32)\n",
      "Coordinates:\n",
      "  * latitude   (latitude) float32 -87.5 -82.5 -77.5 -72.5 ... 77.5 82.5 87.5\n",
      "  * longitude  (longitude) float32 -177.5 -172.5 -167.5 ... 167.5 172.5 177.5\n",
      "    time       datetime64[ns] 2019-09-16\n",
      "Attributes:\n",
      "    long_name:         near_surface_temperature_anomaly\n",
      "    units:             K\n",
      "    reference_period:  [1961 1990]\n"
     ]
    }
   ],
   "source": [
    "x = hadcrut4.temperature_anomaly.sel(time=hadcrut4.time[-1])\n",
    "print(x)"
   ]
  },
  {
   "cell_type": "code",
   "execution_count": 11,
   "metadata": {},
   "outputs": [
    {
     "data": {
      "text/plain": [
       "<matplotlib.collections.QuadMesh at 0x7f61baa12d10>"
      ]
     },
     "execution_count": 11,
     "metadata": {},
     "output_type": "execute_result"
    },
    {
     "data": {
      "image/png": "[encoded data removed]",
      "text/plain": [
       "<Figure size 432x288 with 2 Axes>"
      ]
     },
     "metadata": {
      "needs_background": "light"
     },
     "output_type": "display_data"
    }
   ],
   "source": [
    "x.plot()"
   ]
  },
  {
   "cell_type": "markdown",
   "metadata": {},
   "source": [
    "### Global temperature anomaly"
   ]
  },
  {
   "cell_type": "code",
   "execution_count": 12,
   "metadata": {},
   "outputs": [
    {
     "name": "stdout",
     "output_type": "stream",
     "text": [
      "<class 'xarray.core.dataarray.DataArray'>\n"
     ]
    }
   ],
   "source": [
    "x = hadcrut4.temperature_anomaly.resample(time='1Y').mean()\n",
    "print(type(x))"
   ]
  },
  {
   "cell_type": "code",
   "execution_count": 13,
   "metadata": {},
   "outputs": [
    {
     "data": {
      "text/plain": [
       "[<matplotlib.lines.Line2D at 0x7f61b7ea3a50>]"
      ]
     },
     "execution_count": 13,
     "metadata": {},
     "output_type": "execute_result"
    },
    {
     "data": {
      "image/png": "[encoded data removed]",
      "text/plain": [
       "<Figure size 432x288 with 1 Axes>"
      ]
     },
     "metadata": {
      "needs_background": "light"
     },
     "output_type": "display_data"
    }
   ],
   "source": [
    "x.plot()"
   ]
  },
  {
   "cell_type": "markdown",
   "metadata": {},
   "source": [
    "# Exercises\n",
    "\n",
    "## 1 - Get the date for the min and max anomalies"
   ]
  },
  {
   "cell_type": "code",
   "execution_count": 127,
   "metadata": {},
   "outputs": [
    {
     "name": "stdout",
     "output_type": "stream",
     "text": [
      "Maximum anomaly time = ['1896-12-16T12:00:00.000000000']\n",
      "Minimum anomaly time = ['1917-12-16T12:00:00.000000000']\n"
     ]
    }
   ],
   "source": [
    "time, latitude, longitude = hadcrut4.time, hadcrut4.latitude, hadcrut4.longitude #Let's create arrays for the different coordinates\n",
    "values, anomalies = hadcrut4.values, hadcrut4.temperature_anomaly #Let's also keep the values measured in an array\n",
    "\n",
    "#Get the date for the min and max anomalies\n",
    "maxAnomaly = anomalies.where(anomalies==np.nanmax(anomalies), drop=True) #Only keep the data for the maxmimal anomaly\n",
    "minAnomaly = anomalies.where(anomalies==np.nanmin(anomalies), drop=True)\n",
    "print(\"Maximum anomaly time = \" + str(maxAnomaly.time.values))\n",
    "print(\"Minimum anomaly time = \" + str(minAnomaly.time.values))"
   ]
  },
  {
   "cell_type": "markdown",
   "metadata": {},
   "source": [
    "**Solution**\n",
    "\n",
    "(numpy.datetime64('1862-12-31T00:00:00.000000000'),\n",
    " numpy.datetime64('2016-12-31T00:00:00.000000000'))"
   ]
  },
  {
   "cell_type": "markdown",
   "metadata": {},
   "source": [
    "## 2 - Plot anomalies for northen and southern poles (Hint: [where](http://xarray.pydata.org/en/stable/indexing.html#masking-with-where))"
   ]
  },
  {
   "cell_type": "code",
   "execution_count": 73,
   "metadata": {},
   "outputs": [
    {
     "data": {
      "text/plain": [
       "<matplotlib.collections.QuadMesh at 0x7f61b63e0050>"
      ]
     },
     "execution_count": 73,
     "metadata": {},
     "output_type": "execute_result"
    },
    {
     "data": {
      "image/png": "[encoded data removed]",
      "text/plain": [
       "<Figure size 432x288 with 2 Axes>"
      ]
     },
     "metadata": {
      "needs_background": "light"
     },
     "output_type": "display_data"
    }
   ],
   "source": [
    "#Plot anomalies for northen and southern poles\n",
    "northPoleAnomalies = anomalies.where(latitude > 72.5, drop=True)\n",
    "#print(northPoleAnomalies)\n",
    "x = northPoleAnomalies.sel(time=hadcrut4.time[-1]) #Display the plot of the anomalies in the North Pole for different longitudes, for a given date (the last one)\n",
    "x.plot()"
   ]
  },
  {
   "cell_type": "code",
   "execution_count": 76,
   "metadata": {},
   "outputs": [
    {
     "data": {
      "text/plain": [
       "[<matplotlib.lines.Line2D at 0x7f61b62653d0>]"
      ]
     },
     "execution_count": 76,
     "metadata": {},
     "output_type": "execute_result"
    },
    {
     "data": {
      "image/png": "[encoded data removed]",
      "text/plain": [
       "<Figure size 432x288 with 1 Axes>"
      ]
     },
     "metadata": {
      "needs_background": "light"
     },
     "output_type": "display_data"
    }
   ],
   "source": [
    "#Let's now try to plot the anomiales in this area with respect to the date\n",
    "x = northPoleAnomalies.resample(time='1Y').mean()\n",
    "x.plot()"
   ]
  },
  {
   "cell_type": "code",
   "execution_count": 77,
   "metadata": {},
   "outputs": [
    {
     "data": {
      "text/plain": [
       "[<matplotlib.lines.Line2D at 0x7f61b61d2dd0>]"
      ]
     },
     "execution_count": 77,
     "metadata": {},
     "output_type": "execute_result"
    },
    {
     "data": {
      "image/png": "[encoded data removed]",
      "text/plain": [
       "<Figure size 432x288 with 1 Axes>"
      ]
     },
     "metadata": {
      "needs_background": "light"
     },
     "output_type": "display_data"
    }
   ],
   "source": [
    "#Plot anomalies for northen and southern poles\n",
    "southPoleAnomalies = anomalies.where(latitude < -72.5, drop=True)\n",
    "#print(southPoleAnomalies)\n",
    "x = southPoleAnomalies.resample(time='1Y').mean()\n",
    "x.plot()"
   ]
  },
  {
   "cell_type": "markdown",
   "metadata": {},
   "source": [
    "## 3 - Get temperature values used to calculate anomalies in 2018 (as a numpy array (.values))\n",
    "\n",
    "**Look at temperature units**"
   ]
  },
  {
   "cell_type": "code",
   "execution_count": 78,
   "metadata": {},
   "outputs": [
    {
     "name": "stdout",
     "output_type": "stream",
     "text": [
      "<xarray.Dataset>\n",
      "Dimensions:  (lat: 36, lon: 72, time: 12)\n",
      "Coordinates:\n",
      "  * lat      (lat) float32 87.5 82.5 77.5 72.5 67.5 ... -72.5 -77.5 -82.5 -87.5\n",
      "  * lon      (lon) float32 -177.5 -172.5 -167.5 -162.5 ... 167.5 172.5 177.5\n",
      "  * time     (time) int16 1 2 3 4 5 6 7 8 9 10 11 12\n",
      "Data variables:\n",
      "    tem      (time, lat, lon) float32 ...\n"
     ]
    }
   ],
   "source": [
    "absolute = xr.open_dataset('absolute.nc')\n",
    "print(absolute) #The time coordinate seems to correspond to the month of the year"
   ]
  },
  {
   "cell_type": "code",
   "execution_count": 79,
   "metadata": {},
   "outputs": [
    {
     "name": "stdout",
     "output_type": "stream",
     "text": [
      "<xarray.DataArray 'tem' (time: 12, lat: 36, lon: 72)>\n",
      "array([[[-30.099998, -30.099998, ..., -30.699999, -30.5     ],\n",
      "        [-29.3     , -29.199999, ..., -29.5     , -29.3     ],\n",
      "        ...,\n",
      "        [ -4.7     ,  -4.4     , ...,  -6.4     ,  -5.6     ],\n",
      "        [-26.599998, -27.4     , ..., -27.4     , -27.5     ]],\n",
      "\n",
      "       [[-30.5     , -30.599998, ..., -31.      , -30.8     ],\n",
      "        [-29.4     , -29.4     , ..., -29.599998, -29.5     ],\n",
      "        ...,\n",
      "        [-11.099999, -10.599999, ..., -13.4     , -12.3     ],\n",
      "        [-38.3     , -39.2     , ..., -39.399998, -39.399998]],\n",
      "\n",
      "       ...,\n",
      "\n",
      "       [[-24.4     , -24.5     , ..., -24.6     , -24.699999],\n",
      "        [-22.3     , -22.199999, ..., -22.5     , -22.5     ],\n",
      "        ...,\n",
      "        [-12.      , -11.7     , ..., -14.099999, -13.099999],\n",
      "        [-36.899998, -37.7     , ..., -37.899998, -37.899998]],\n",
      "\n",
      "       [[-29.3     , -29.5     , ..., -29.3     , -29.4     ],\n",
      "        [-27.      , -27.099998, ..., -27.099998, -27.099998],\n",
      "        ...,\n",
      "        [ -5.2     ,  -4.9     , ...,  -6.9     ,  -6.1     ],\n",
      "        [-26.699999, -27.4     , ..., -27.5     , -27.599998]]], dtype=float32)\n",
      "Coordinates:\n",
      "  * lat      (lat) float32 87.5 82.5 77.5 72.5 67.5 ... -72.5 -77.5 -82.5 -87.5\n",
      "  * lon      (lon) float32 -177.5 -172.5 -167.5 -162.5 ... 167.5 172.5 177.5\n",
      "  * time     (time) int16 1 2 3 4 5 6 7 8 9 10 11 12\n",
      "Attributes:\n",
      "    long_name:  CRU_Global_1961-1990_Mean_Monthly_Surface_Temperature_Climato...\n",
      "    units:      celsius\n",
      "    valid_min:  -9000\n"
     ]
    }
   ],
   "source": [
    "print(absolute.tem)"
   ]
  },
  {
   "cell_type": "code",
   "execution_count": 209,
   "metadata": {
    "scrolled": true
   },
   "outputs": [
    {
     "name": "stdout",
     "output_type": "stream",
     "text": [
      "[[[246.54999 245.75    247.95    ... 246.75    245.75    245.65   ]\n",
      "  [268.44998 268.75    269.25    ... 264.25    266.75    267.55   ]\n",
      "  [270.25    270.25    270.35    ... 269.35    270.15    270.25   ]\n",
      "  ...\n",
      "  [246.95    247.04999 246.75    ... 245.95    246.34999 246.65   ]\n",
      "  [243.84999 243.95    243.84999 ... 243.34999 243.65    243.84999]\n",
      "  [243.04999 243.04999 242.65    ... 242.34999 242.45    242.65   ]]\n",
      "\n",
      " [[234.84999 233.95    236.65    ... 234.95    233.75    233.75   ]\n",
      "  [262.05    262.55    263.35    ... 256.65    259.75    260.85   ]\n",
      "  [265.25    265.44998 265.75    ... 263.55    264.65    264.94998]\n",
      "  ...\n",
      "  [246.45    246.54999 246.25    ... 245.25    245.75    246.04999]\n",
      "  [243.75    243.75    243.75    ... 243.25    243.54999 243.65   ]\n",
      "  [242.65    242.54999 242.34999 ... 242.04999 242.15    242.34999]]\n",
      "\n",
      " [[222.45    221.54999 224.65    ... 222.45    221.15    221.15   ]\n",
      "  [253.65    254.34999 255.34999 ... 247.25    250.75    252.15   ]\n",
      "  [257.65    258.15    258.65    ... 255.45    256.75    257.25   ]\n",
      "  ...\n",
      "  [246.34999 246.25    246.15    ... 245.54999 245.84999 246.15   ]\n",
      "  [243.25    243.25    243.34999 ... 243.45    243.34999 243.45   ]\n",
      "  [242.65    242.75    242.65    ... 242.34999 242.25    242.34999]]\n",
      "\n",
      " ...\n",
      "\n",
      " [[223.65    222.75    225.54999 ... 223.65    222.45    222.45   ]\n",
      "  [251.34999 251.84999 252.65    ... 245.75    248.84999 250.04999]\n",
      "  [254.65    254.95    255.25    ... 252.84999 253.95    254.34999]\n",
      "  ...\n",
      "  [259.85    259.85    259.85    ... 259.85    260.05    259.94998]\n",
      "  [257.15    257.15    257.05    ... 257.15    257.25    257.25   ]\n",
      "  [255.84999 255.84999 255.75    ... 255.65    255.65    255.75   ]]\n",
      "\n",
      " [[236.25    235.45    237.95    ... 236.34999 235.25    235.25   ]\n",
      "  [261.15    261.44998 262.15    ... 256.25    259.05    260.05   ]\n",
      "  [263.55    263.65    263.75    ... 262.35    263.25    263.44998]\n",
      "  ...\n",
      "  [253.84999 253.84999 253.75    ... 252.45    253.04999 253.45   ]\n",
      "  [250.84999 250.95    250.95    ... 250.45    250.65    250.65   ]\n",
      "  [248.75    248.65    248.34999 ... 248.34999 248.54999 248.45   ]]\n",
      "\n",
      " [[246.45    245.75    247.84999 ... 246.65    245.65    245.54999]\n",
      "  [267.94998 268.25    268.75    ... 263.85    266.25    267.05   ]\n",
      "  [269.75    269.75    269.75    ... 268.85    269.65    269.65   ]\n",
      "  ...\n",
      "  [248.95    248.95    248.65    ... 247.95    248.54999 248.84999]\n",
      "  [246.15    246.04999 245.95    ... 245.95    246.04999 246.04999]\n",
      "  [243.84999 243.65    243.34999 ... 243.75    243.84999 243.75   ]]]\n"
     ]
    }
   ],
   "source": [
    "#Let's first of all select the data from 2018 since this is what is interesting us\n",
    "anomalies2018 = (anomalies.sel(time=\"2018\"))\n",
    "#print(anomalies2018)\n",
    "\n",
    "#Let's rename if needed the coordinates of the second DataSet to make them match the first one, as this might be useful\n",
    "try: #We need this so that the code does not crash if executed multiple times, even tough we don't really need to catch the exception raised\n",
    "    absolute = absolute.rename({'lon': 'longitude','lat': 'latitude'})\n",
    "except:\n",
    "    pass\n",
    "\n",
    "#Let's change the format of the hadcrut4 time format to keep only the month and make it match the time format of the absolute xarray\n",
    "import datetime as dt\n",
    "dates = anomalies2018['time'].dt.strftime('%m') #Converts the datetime to only keep the month number with a leading zero, as a string\n",
    "dates = [ int(x) for x in dates ] #Convert these strings into int\n",
    "anomalies2018['time'] = dates\n",
    "\n",
    "#Finally, let's convert the temperature of the absolute dataset into K instead of Celsius\n",
    "absolute.tem.values = absolute.tem.values + 273.15\n",
    "    \n",
    "#Let's use the merge function to combine the absolute temperature data and the anomalies\n",
    "combinaison = xr.merge([anomalies2018, absolute.tem])\n",
    "#print(combinaison)\n",
    "t2018 = combinaison.tem.values\n",
    "print(t2018)"
   ]
  },
  {
   "cell_type": "code",
   "execution_count": 210,
   "metadata": {
    "scrolled": false
   },
   "outputs": [
    {
     "name": "stdout",
     "output_type": "stream",
     "text": [
      "8640950.0 308.85\n"
     ]
    }
   ],
   "source": [
    "print(t2018[~np.isnan(t2018)].sum(), t2018[~np.isnan(t2018)].max()) # 6214262.5, 310.1098"
   ]
  }
 ],
 "metadata": {
  "kernelspec": {
   "display_name": "Python 3",
   "language": "python",
   "name": "python3"
  },
  "language_info": {
   "codemirror_mode": {
    "name": "ipython",
    "version": 3
   },
   "file_extension": ".py",
   "mimetype": "text/x-python",
   "name": "python",
   "nbconvert_exporter": "python",
   "pygments_lexer": "ipython3",
   "version": "3.7.4"
  }
 },
 "nbformat": 4,
 "nbformat_minor": 2
}
