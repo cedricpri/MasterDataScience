{
 "cells": [
  {
   "cell_type": "markdown",
   "metadata": {},
   "source": [
    "# Tarea pandas"
   ]
  },
  {
   "cell_type": "markdown",
   "metadata": {},
   "source": [
    "Ejercicio hecho por Cédric Prieels."
   ]
  },
  {
   "cell_type": "markdown",
   "metadata": {},
   "source": [
    "## Archivo CSV de poblaciones"
   ]
  },
  {
   "cell_type": "code",
   "execution_count": 274,
   "metadata": {},
   "outputs": [
    {
     "name": "stdout",
     "output_type": "stream",
     "text": [
      "   FID  OBJECTID      Cod_INE     Texto  Poblacion  CodMun Municipio  \\\n",
      "0    0         1  35002000101   Agüimes    29431.0   35002   Agüimes   \n",
      "1    1         2  35003000201   Antigua    10458.0   35003   Antigua   \n",
      "2    2         3  35004000301  Arrecife    58156.0   35004  Arrecife   \n",
      "3    3         4  35006000202    Arucas    36745.0   35006    Arucas   \n",
      "4    4         5  35009000303    Gáldar    24473.0   35009    Gáldar   \n",
      "\n",
      "   Cod_Provin   Provincia          X          Y  \n",
      "0          35  Las Palmas -15.446012  27.900542  \n",
      "1          35  Las Palmas -14.013301  28.418966  \n",
      "2          35  Las Palmas -13.551451  28.960649  \n",
      "3          35  Las Palmas -15.521512  28.117496  \n",
      "4          35  Las Palmas -15.654111  28.143873  \n"
     ]
    }
   ],
   "source": [
    "import numpy as np\n",
    "import pandas as pd\n",
    "\n",
    "#First of all, let's open the CSV file we downloaded and keep the data in a data frame\n",
    "df = pd.read_csv('Centroides_NucleosPoblacion.csv')\n",
    "print(df.head())"
   ]
  },
  {
   "cell_type": "markdown",
   "metadata": {},
   "source": [
    "¿Cuántos Municipios tienen más de 100000 habitantes?. ¿Cuál es la segunda ciudad más poblada?. ¿Qué posición ocupa Granada en el ranking de las más pobladas?."
   ]
  },
  {
   "cell_type": "code",
   "execution_count": 74,
   "metadata": {},
   "outputs": [
    {
     "name": "stdout",
     "output_type": "stream",
     "text": [
      "Hay 62 municipios con más de 100000 habitantes.\n",
      "\n",
      "\n",
      "La segunda ciudad más poblada es...\n",
      "     FID  OBJECTID     Cod_INE      Texto  Poblacion  CodMun  Municipio  \\\n",
      "623  623       624  8019000101  Barcelona  1619337.0    8019  Barcelona   \n",
      "\n",
      "     Cod_Provin  Provincia         X          Y  Rango  \n",
      "623           8  Barcelona  2.176349  41.384247    2.0  \n",
      "\n",
      "\n",
      "Posición de Granada...\n"
     ]
    },
    {
     "data": {
      "text/plain": [
       "272    18.0\n",
       "Name: Rango, dtype: float64"
      ]
     },
     "execution_count": 74,
     "metadata": {},
     "output_type": "execute_result"
    }
   ],
   "source": [
    "municipios = df[df['Poblacion'] > 100000]['Poblacion'].count()\n",
    "print(\"Hay \" + str(municipios) + \" municipios con más de 100000 habitantes.\")\n",
    "\n",
    "print(\"\\n\\nLa segunda ciudad más poblada es...\")\n",
    "largest = df.sort_values(by=\"Poblacion\", ascending=False) #To order the data frame by Poblacion in descending order\n",
    "print(largest[1:2]) #Let's display all the data we have about this city\n",
    "\n",
    "print(\"\\n\\nPosición de Granada...\")\n",
    "df[\"Rango\"] = df['Poblacion'].rank(ascending=False) #Let's add one column at the end of the dataframe containing the rank of the city based on the Poblacion value\n",
    "df[df[\"Municipio\"] == \"Granada\"]['Rango'] #And let's now display the rango value for the city of Granada"
   ]
  },
  {
   "cell_type": "markdown",
   "metadata": {},
   "source": [
    "Escriba los nombres de los 10 municipios con menos población."
   ]
  },
  {
   "cell_type": "code",
   "execution_count": 84,
   "metadata": {},
   "outputs": [
    {
     "name": "stdout",
     "output_type": "stream",
     "text": [
      "10 municipios con menos población...\n",
      "307         Zumarraga\n",
      "115    Caldas de Reis\n",
      "168           Amurrio\n",
      "746    Premià de Dalt\n",
      "525             Buñol\n",
      "97           Bembibre\n",
      "503             Ocaña\n",
      "193               Sax\n",
      "841     San Fulgencio\n",
      "756     San Bartolomé\n",
      "Name: Municipio, dtype: object\n"
     ]
    }
   ],
   "source": [
    "#Let's use the new column Rango we previously defined for this\n",
    "print(\"10 municipios con menos población...\")\n",
    "df_sorted = df.sort_values(by='Rango', ascending=False)[0:10] #We only want the first 10 results\n",
    "print(df_sorted['Municipio'])"
   ]
  },
  {
   "cell_type": "markdown",
   "metadata": {},
   "source": [
    "¿Cuántos municipios de León tienen más de 6000 habitantes?."
   ]
  },
  {
   "cell_type": "code",
   "execution_count": 97,
   "metadata": {},
   "outputs": [
    {
     "name": "stdout",
     "output_type": "stream",
     "text": [
      "Hay 9 municipios de León que tienen más de 6000 habitantes.\n"
     ]
    }
   ],
   "source": [
    "municipios = df.loc[(df['Provincia'] == \"León\") & (df['Poblacion'] > 6000)]['Municipio'].count()\n",
    "print(\"Hay \" + str(municipios) + \" municipios de León que tienen más de 6000 habitantes.\")"
   ]
  },
  {
   "cell_type": "markdown",
   "metadata": {},
   "source": [
    "¿Cuál es el municipio situado más al Norte? (Usar el valor de la coordenada \"Y\" que representa la latitud en grados). Proporcione también la provincia a la que pertenece y su población."
   ]
  },
  {
   "cell_type": "code",
   "execution_count": 107,
   "metadata": {},
   "outputs": [
    {
     "name": "stdout",
     "output_type": "stream",
     "text": [
      "El municipio más al Norte es...\n",
      "    Provincia Municipio  Poblacion          Y\n",
      "104      Lugo   Viveiro    16211.0  43.625578\n"
     ]
    }
   ],
   "source": [
    "print(\"El municipio más al Norte es...\")\n",
    "df_sorted = df.sort_values(by='Y', ascending=False)[['Provincia', 'Municipio', 'Poblacion', 'Y']][0:1]\n",
    "print(df_sorted)"
   ]
  },
  {
   "cell_type": "markdown",
   "metadata": {},
   "source": [
    "¿Cual es el municipio de la provincia de Cantabria situado más al Este?. ¿Cual es el situado más al Oeste?."
   ]
  },
  {
   "cell_type": "code",
   "execution_count": 112,
   "metadata": {},
   "outputs": [
    {
     "name": "stdout",
     "output_type": "stream",
     "text": [
      "El municipio de Cantabria más al Este es...\n",
      "     Provincia        Municipio  Poblacion         X\n",
      "464  Cantabria  Castro-Urdiales    32258.0 -3.216038\n",
      "\n",
      "\n",
      "El municipio de Cantabria más al Oeste es...\n",
      "     Provincia Municipio  Poblacion         X\n",
      "468  Cantabria   Reinosa    10277.0 -4.138583\n"
     ]
    }
   ],
   "source": [
    "print(\"El municipio de Cantabria más al Este es...\") #Cantabria is on the west of the Greenwich meridian, so the one that has the largest X value (since they should all be negative)\n",
    "df_sorted = df[df['Provincia'] == 'Cantabria'].sort_values(by='X', ascending=False)[['Provincia', 'Municipio', 'Poblacion', 'X']][0:1]\n",
    "print(df_sorted)\n",
    "\n",
    "print(\"\\n\\nEl municipio de Cantabria más al Oeste es...\")\n",
    "df_sorted = df[df['Provincia'] == 'Cantabria'].sort_values(by='X', ascending=True)[['Provincia', 'Municipio', 'Poblacion', 'X']][0:1]\n",
    "print(df_sorted)"
   ]
  },
  {
   "cell_type": "markdown",
   "metadata": {},
   "source": [
    "Dígame los nombres de los Municipios más cercano y más lejano a Madrid. Para ello debe calcular la distancia en todos ellos y Madrid. Por supuesto, Madrid no cuenta."
   ]
  },
  {
   "cell_type": "code",
   "execution_count": 167,
   "metadata": {},
   "outputs": [
    {
     "name": "stdout",
     "output_type": "stream",
     "text": [
      "Coordinates of Madrid: (-3.7037970760000003,40.4166300011)\n",
      "\n",
      "0    1892.873278\n",
      "1    1745.977476\n",
      "2    1668.131165\n",
      "3    1881.481446\n",
      "4    1889.529925\n",
      "Name: DistanciaAMadrid, dtype: float64\n",
      "\n",
      "The closest city to Madrid is... \n",
      "FID                                             783\n",
      "OBJECTID                                        784\n",
      "Cod_INE                                 28115002300\n",
      "Texto               Humera-Somosaguas-prado del Rey\n",
      "Poblacion                                     14800\n",
      "CodMun                                        28115\n",
      "Municipio                        Pozuelo de Alarcón\n",
      "Cod_Provin                                       28\n",
      "Provincia                                    Madrid\n",
      "X                                          -3.78385\n",
      "Y                                           40.4288\n",
      "Rango                                           579\n",
      "DistanciaAMadrid                            9.00583\n",
      "Name: 783, dtype: object\n",
      "\n",
      "The furthest city to Madrid is... \n",
      "FID                                     29\n",
      "OBJECTID                                30\n",
      "Cod_INE                        38024000501\n",
      "Texto                Los Llanos de Aridane\n",
      "Poblacion                            20948\n",
      "CodMun                               38024\n",
      "Municipio            Los Llanos de Aridane\n",
      "Cod_Provin                              38\n",
      "Provincia           Santa Cruz de Tenerife\n",
      "X                                 -17.9144\n",
      "Y                                  28.6586\n",
      "Rango                                  409\n",
      "DistanciaAMadrid                   2034.48\n",
      "Name: 29, dtype: object\n"
     ]
    }
   ],
   "source": [
    "#The calculation of the distance between geographic coordinates is based on the following formula: https://stackoverflow.com/questions/19412462/getting-distance-between-two-points-based-on-latitude-longitude\n",
    "from math import sin, cos, sqrt, atan2, radians\n",
    "\n",
    "#First, let's keep the X and Y values for Madrid in global variables\n",
    "xMadrid = df[df['Municipio'] == \"Madrid\"]['X'].values[0]\n",
    "yMadrid = df[df['Municipio'] == \"Madrid\"]['Y'].values[0]\n",
    "print(\"Coordinates of Madrid: (\" + str(xMadrid) + \",\" + str(yMadrid) + \")\\n\")\n",
    "\n",
    "#Let's add a new column in our data frame that we will call DistanciaAMadrid and that we need to compute for all the cities\n",
    "#For this, we define a function that gives back the distance from the coordinates of the cities considered\n",
    "def distancia_a_madrid(lat, long):\n",
    "    \"\"\"\n",
    "    All the arguments must be given in degrees, since this is what we have in our data frame.\n",
    "    Gives back the distance between the cities of the data frame and Madrid in kilometers\n",
    "    \"\"\"\n",
    "    \n",
    "    R = 6373.0 #Approximate radius of earth in km\n",
    "    \n",
    "    lat1 = radians(lat)\n",
    "    long1 = radians(long)\n",
    "    lat2 = radians(xMadrid)\n",
    "    long2 = radians(yMadrid)\n",
    "\n",
    "    dlong = long2 - long1\n",
    "    dlat = lat2 - lat1\n",
    "\n",
    "    a = sin(dlat / 2)**2 + cos(lat1) * cos(lat2) * sin(dlong / 2)**2\n",
    "    c = 2 * atan2(sqrt(a), sqrt(1 - a))\n",
    "\n",
    "    distance = R * c\n",
    "    return distance\n",
    "\n",
    "#Let's now apply our function to all the rows of the data frame using the lambda function\n",
    "df['DistanciaAMadrid'] = df[['X', 'Y']].apply(lambda x: distancia_a_madrid(x[0], x[1]), axis=1) #x[0] correspond to the latitude in this case\n",
    "print(df['DistanciaAMadrid'].head())\n",
    "\n",
    "#Now we just need to order the new values and select the first and last rows (excluding Madrid)\n",
    "df_sorted = df.sort_values(by='DistanciaAMadrid', ascending=True)\n",
    "\n",
    "print(\"\\nThe closest city to Madrid is... \")\n",
    "print(df_sorted.iloc[1]) #We select the element 1 instead of 0 to avoid selecting Madrid itself\n",
    "\n",
    "print(\"\\nThe furthest city to Madrid is... \")\n",
    "print(df_sorted.iloc[-1])"
   ]
  },
  {
   "cell_type": "markdown",
   "metadata": {},
   "source": [
    "¿Cuántos Municipios hay en un radio de 5 grados de la ciudad de Barcelona?."
   ]
  },
  {
   "cell_type": "code",
   "execution_count": 173,
   "metadata": {},
   "outputs": [
    {
     "name": "stdout",
     "output_type": "stream",
     "text": [
      "Coordinates of Barcelona: (2.176349275,41.3842466401)\n",
      "\n",
      "Hay 391 municipios a menos de 5 grados de Barcelona.\n"
     ]
    }
   ],
   "source": [
    "#The \"5 degrees radius\" being not completely defined, let's select the cities having a delta(latitude) < 5 degrees and a delta(longitude) < 5 degrees as well (giving us a square of length 5 degrees)\n",
    "\n",
    "#First, let's keep the X and Y values for Barcelona\n",
    "xBarcelona = df[df['Municipio'] == \"Barcelona\"]['X'].values[0]\n",
    "yBarcelona = df[df['Municipio'] == \"Barcelona\"]['Y'].values[0]\n",
    "print(\"Coordinates of Barcelona: (\" + str(xBarcelona) + \",\" + str(yBarcelona) + \")\")\n",
    "\n",
    "df_output = df.loc[(df['X'] > xBarcelona - 5) & (df['X'] < xBarcelona + 5) & (df['Y'] > yBarcelona - 5) & (df['Y'] < yBarcelona + 5)]\n",
    "#Let's now count the results and display them\n",
    "print(\"\\nHay \" + str(df_output['Municipio'].count()) + \" municipios a menos de 5 grados de Barcelona.\")"
   ]
  },
  {
   "cell_type": "markdown",
   "metadata": {},
   "source": [
    "Obtenga la media, mediana, desviación estándar, valor máximo y valor mínimo de la población de los municipios de la provincia de Cantabria."
   ]
  },
  {
   "cell_type": "code",
   "execution_count": 177,
   "metadata": {},
   "outputs": [
    {
     "name": "stdout",
     "output_type": "stream",
     "text": [
      "count        14.000000\n",
      "mean      31246.285714\n",
      "std       45088.684837\n",
      "min       10277.000000\n",
      "25%       11610.750000\n",
      "50%       14322.000000\n",
      "75%       28981.000000\n",
      "max      181589.000000\n",
      "Name: Poblacion, dtype: float64\n"
     ]
    }
   ],
   "source": [
    "pob_cantabria = df.loc[(df['Provincia'] == \"Cantabria\")]\n",
    "print(df_cantabria['Poblacion'].describe())"
   ]
  },
  {
   "cell_type": "markdown",
   "metadata": {},
   "source": [
    "Usando los métodos de agregación, calcular las poblaciones de cada provincia."
   ]
  },
  {
   "cell_type": "code",
   "execution_count": 195,
   "metadata": {},
   "outputs": [
    {
     "name": "stdout",
     "output_type": "stream",
     "text": [
      "                        Poblacion\n",
      "                              sum\n",
      "Provincia                        \n",
      "A Coruña                 818982.0\n",
      "Alacant/Alicante        1804252.0\n",
      "Albacete                 280673.0\n",
      "Almería                  550604.0\n",
      "Asturias                 965777.0\n",
      "Badajoz                  361700.0\n",
      "Barcelona               4934795.0\n",
      "Burgos                   250766.0\n",
      "Cantabria                437448.0\n",
      "Castelló/Castellón       476388.0\n",
      "Ceuta                     80579.0\n",
      "Ciudad Real              348364.0\n",
      "Cuenca                    71921.0\n",
      "Cáceres                  176220.0\n",
      "Cádiz                   1166531.0\n",
      "Córdoba                  590503.0\n",
      "Girona                   474739.0\n",
      "Granada                  604357.0\n",
      "Guadalajara              139373.0\n",
      "Guipúzcoa                546141.0\n",
      "Huelva                   361777.0\n",
      "Huesca                   124838.0\n",
      "Illes Balears           1041183.0\n",
      "Jaén                     426169.0\n",
      "La Rioja                 203911.0\n",
      "Las Palmas              1220407.0\n",
      "León                     316662.0\n",
      "Lleida                   199135.0\n",
      "Lugo                     162422.0\n",
      "Madrid                  6315312.0\n",
      "Melilla                   76034.0\n",
      "Murcia                  1599339.0\n",
      "Málaga                  1702839.0\n",
      "Navarra                  440005.0\n",
      "Ourense                  161821.0\n",
      "Palencia                  82169.0\n",
      "Pontevedra               794690.0\n",
      "Salamanca                197780.0\n",
      "Santa Cruz de Tenerife   989964.0\n",
      "Segovia                   55748.0\n",
      "Sevilla                 1671058.0\n",
      "Soria                     39838.0\n",
      "Tarragona                598738.0\n",
      "Teruel                    51532.0\n",
      "Toledo                   332751.0\n",
      "Valladolid               372022.0\n",
      "València/Valencia       2189461.0\n",
      "Vizcaya                  984560.0\n",
      "Zamora                    85098.0\n",
      "Zaragoza                 743312.0\n",
      "Álava                    266717.0\n",
      "Ávila                     58245.0\n"
     ]
    }
   ],
   "source": [
    "#Let's group the data frame by provincia and sum the poblacion\n",
    "df_prov = df.loc[:,['Provincia', 'Poblacion']].groupby('Provincia').agg(['sum'])\n",
    "print(df_prov)"
   ]
  },
  {
   "cell_type": "markdown",
   "metadata": {},
   "source": [
    "Dibujar el valor de la población para las diferentes ciudades (usar las funciones vistas en MatPlotLib). Hacer un gráfico equivalente pero para las diferentes provincias. Seleccionar un punto representativo de las ciudades incluidas en cada provincia."
   ]
  },
  {
   "cell_type": "code",
   "execution_count": 202,
   "metadata": {},
   "outputs": [
    {
     "data": {
      "image/png": "[encoded data removed]",
      "text/plain": [
       "<Figure size 432x288 with 1 Axes>"
      ]
     },
     "metadata": {
      "needs_background": "light"
     },
     "output_type": "display_data"
    },
    {
     "data": {
      "image/png": "[encoded data removed]",
      "text/plain": [
       "<Figure size 432x288 with 1 Axes>"
      ]
     },
     "metadata": {
      "needs_background": "light"
     },
     "output_type": "display_data"
    }
   ],
   "source": [
    "import matplotlib.pyplot as pyplot\n",
    "%matplotlib inline\n",
    "\n",
    "pyplot.plot(df.index, df['Poblacion'])\n",
    "pyplot.legend(['Poblacion por ciudad'])\n",
    "pyplot.show()\n",
    "\n",
    "pyplot.plot(df_prov.index, df_prov['Poblacion'])\n",
    "pyplot.legend(['Poblacion por provincia'])\n",
    "pyplot.show()"
   ]
  },
  {
   "cell_type": "markdown",
   "metadata": {},
   "source": [
    "## Series Temporales"
   ]
  },
  {
   "cell_type": "markdown",
   "metadata": {},
   "source": [
    "Los ficheros precip.csv y precip.stn contienen los datos de precipitación diaria de los años 2000-2010 para 86 estaciones meteorológicas distribuidas por Europa. Leer ambos ficheros utilizando las funciones correspondientes de PANDAS y realizar lo siguiente:"
   ]
  },
  {
   "cell_type": "markdown",
   "metadata": {},
   "source": [
    "Obtener y exporta en csv los datos asociados a las series mensuales, estacionales y anuales"
   ]
  },
  {
   "cell_type": "code",
   "execution_count": 362,
   "metadata": {},
   "outputs": [
    {
     "name": "stderr",
     "output_type": "stream",
     "text": [
      "/opt/conda/lib/python3.6/site-packages/ipykernel_launcher.py:5: ParserWarning: Falling back to the 'python' engine because the 'c' engine does not support regex separators (separators > 1 char and different from '\\s+' are interpreted as regex); you can avoid this warning by specifying engine='python'.\n",
      "  \"\"\"\n",
      "/opt/conda/lib/python3.6/site-packages/ipykernel_launcher.py:6: ParserWarning: Falling back to the 'python' engine because the 'c' engine does not support regex separators (separators > 1 char and different from '\\s+' are interpreted as regex); you can avoid this warning by specifying engine='python'.\n",
      "  \n"
     ]
    },
    {
     "name": "stdout",
     "output_type": "stream",
     "text": [
      "            000012  000013  000014  000015  000016  000017  000021  000028  \\\n",
      "YYYYMMDD                                                                     \n",
      "2000-01-01     0.0     3.8     3.7    13.4     7.3     1.0     0.0     3.1   \n",
      "2000-01-02     0.0     0.0     0.0     3.9     1.6     0.8     0.8     6.6   \n",
      "2000-01-03     0.0     0.0     0.0     0.0     0.0     0.0     0.0     0.1   \n",
      "2000-01-04     0.0     0.0     2.0     1.1     0.4    10.9     0.0     1.7   \n",
      "2000-01-05     0.0     0.0     1.3     1.7     0.0     0.0     0.0     0.1   \n",
      "\n",
      "            000029  000030   ...    002062  002762  003919  003946  003991  \\\n",
      "YYYYMMDD                     ...                                             \n",
      "2000-01-01     0.1     0.7   ...      27.5     2.6     0.0     0.0     0.9   \n",
      "2000-01-02     4.4     3.6   ...       0.0     0.0     0.0     0.0     0.0   \n",
      "2000-01-03     1.8     0.7   ...       0.0     0.0     0.0     0.0     0.1   \n",
      "2000-01-04     7.6     4.4   ...       0.7     0.2     0.0     0.0     3.2   \n",
      "2000-01-05     0.3     0.1   ...       0.0     0.0     0.0     0.0     0.0   \n",
      "\n",
      "            003994  004002  004004  005585  007682  \n",
      "YYYYMMDD                                            \n",
      "2000-01-01     1.2     1.5     1.1     4.8     0.4  \n",
      "2000-01-02     0.0     0.1     0.0     5.0     7.8  \n",
      "2000-01-03     8.1     0.0     0.0     1.6     2.1  \n",
      "2000-01-04     4.6     6.5     2.3     0.0     0.4  \n",
      "2000-01-05     0.0     3.5     0.2     1.3     0.1  \n",
      "\n",
      "[5 rows x 86 columns]\n",
      "            000012  000013  000014  000015  000016  000017  000021  000028  \\\n",
      "YYYYMMDD                                                                     \n",
      "2000-12-31   755.3  1152.2  1165.7  2259.5   537.5   902.0   724.6   706.4   \n",
      "2001-12-31   592.1   887.5  1314.0  2114.7   523.7  1138.7   842.3   708.7   \n",
      "2002-12-31   953.8   918.6  1391.6  2028.4   813.5  1235.9  1079.2   398.7   \n",
      "2003-12-31   661.9   790.3   953.3  1899.9   446.9   726.0   616.5   573.6   \n",
      "2004-12-31   899.7   816.1  1135.2  2139.1   666.0   827.7   986.2   828.6   \n",
      "\n",
      "            000029  000030   ...    002062  002762  003919  003946  003991  \\\n",
      "YYYYMMDD                     ...                                             \n",
      "2000-12-31   635.6   646.4   ...     292.5   755.8   255.9   407.8   659.7   \n",
      "2001-12-31   596.8   544.5   ...     400.4   873.1   352.3   322.6   690.6   \n",
      "2002-12-31   513.5   480.0   ...     430.6   981.6   557.8   454.2   778.0   \n",
      "2003-12-31   633.6   478.1   ...     350.2   566.3   437.4   433.2   448.4   \n",
      "2004-12-31   683.3   596.9   ...     674.6   658.8   406.9   460.4   617.0   \n",
      "\n",
      "            003994  004002  004004  005585  007682  \n",
      "YYYYMMDD                                            \n",
      "2000-12-31   440.0  1966.8   645.8  1224.6   676.2  \n",
      "2001-12-31   561.2  1992.1   780.6   835.8   612.1  \n",
      "2002-12-31   615.7  1965.2   949.6   775.4   444.8  \n",
      "2003-12-31   458.4  1216.1   447.5   697.9   482.5  \n",
      "2004-12-31   563.9  1464.1   656.4   780.4   630.7  \n",
      "\n",
      "[5 rows x 86 columns]\n"
     ]
    }
   ],
   "source": [
    "import numpy as np\n",
    "import pandas as pd\n",
    "\n",
    "#First of all, let's open the csv file we downloaded and keep the data in a data frame\n",
    "df = pd.read_csv('precip.csv', parse_dates=[0], index_col = 0, sep=r'\\s*,\\s*') #The parse dates argument is telling to python that we have dates in the first column of the csv file\n",
    "df_stn = pd.read_csv('precip.stn', index_col = 0, sep=r'\\s*,\\s*') #This separator is needed since, without it, most of the columns have a space character in their name\n",
    "print(df.head())\n",
    "\n",
    "#We are now ready to start the resampling\n",
    "df_day = df.resample('D').sum()\n",
    "df_month = df.resample('M').sum()\n",
    "df_q = df.resample('Q').sum()\n",
    "df_year = df.resample('Y').sum()\n",
    "print(df_year.head())\n",
    "\n",
    "#Export the csv files from the data frames just created\n",
    "df_day.to_csv('day.csv')\n",
    "df_month.to_csv('month.csv')\n",
    "df_q.to_csv('q.csv')\n",
    "df_year.to_csv('year.csv')"
   ]
  },
  {
   "cell_type": "markdown",
   "metadata": {},
   "source": [
    "Dibujar la serie temporal asociada al promedio espacial de los datos mensuales, estacionales y anuales."
   ]
  },
  {
   "cell_type": "code",
   "execution_count": 237,
   "metadata": {},
   "outputs": [
    {
     "data": {
      "image/png": "[encoded data removed]",
      "text/plain": [
       "<Figure size 432x288 with 1 Axes>"
      ]
     },
     "metadata": {
      "needs_background": "light"
     },
     "output_type": "display_data"
    }
   ],
   "source": [
    "import matplotlib.pyplot as pyplot\n",
    "%matplotlib inline\n",
    "\n",
    "pyplot.plot(df_month.index, df_month.mean(axis=1))\n",
    "pyplot.plot(df_q.index, df_q.mean(axis=1))\n",
    "pyplot.plot(df_year.index, df_year.mean(axis=1))\n",
    "pyplot.legend(['Mean precipitation value by month', 'Mean precipitation value by quarter', 'Mean precipitation value by year'])\n",
    "pyplot.show()"
   ]
  },
  {
   "cell_type": "markdown",
   "metadata": {},
   "source": [
    "Dibujar la distribución espacial de las estaciones, así como los valores promedio y máximo."
   ]
  },
  {
   "cell_type": "code",
   "execution_count": 348,
   "metadata": {},
   "outputs": [
    {
     "data": {
      "image/png": "[encoded data removed]",
      "text/plain": [
       "<Figure size 432x288 with 1 Axes>"
      ]
     },
     "metadata": {
      "needs_background": "light"
     },
     "output_type": "display_data"
    },
    {
     "data": {
      "image/png": "[encoded data removed]",
      "text/plain": [
       "<Figure size 432x288 with 1 Axes>"
      ]
     },
     "metadata": {
      "needs_background": "light"
     },
     "output_type": "display_data"
    }
   ],
   "source": [
    "#The geographical data is kept in the stn file for each station\n",
    "pyplot.scatter(df_stn['latitude'], df_stn['longitude']) #Spatial distribution of the stations\n",
    "pyplot.legend(['Spatial distribution of the stations'])\n",
    "pyplot.show()\n",
    "\n",
    "#We now need to join the two data frames. For this, let's rename the index of df_stn so that it matches the column names of df\n",
    "df_t = df.transpose() #Let's put the station id of df as the index, as in the other data frame\n",
    "#The station id does not have the same format in both df. Let's fix it now.\n",
    "\"\"\"\n",
    "df_t.index = df_t.index.astype('str')\n",
    "df_stn.index = df_stn.index.astype('str')\n",
    "df_stn.index = df_stn.index.str.zfill(6) #Add leading zeros to the second dataframe\n",
    "\n",
    "#Let's now join both data frames into a new one\n",
    "df_new = df_t.join(df_stn)\n",
    "print(df_new.head())\n",
    "\"\"\"\n",
    "\n",
    "pyplot.plot(df_t.index, df_t.mean(axis=1))\n",
    "pyplot.plot(df_t.index, df_t.max(axis=1))\n",
    "pyplot.legend(['Mean values for the stations', 'Max values for the stations'])\n",
    "pyplot.show()"
   ]
  },
  {
   "cell_type": "markdown",
   "metadata": {},
   "source": [
    "Calcular la frecuencia de días con precipitaciones mayores (>) de 1 mm."
   ]
  },
  {
   "cell_type": "code",
   "execution_count": 372,
   "metadata": {},
   "outputs": [
    {
     "name": "stdout",
     "output_type": "stream",
     "text": [
      "000012    32.108140\n",
      "000013    28.412337\n",
      "000014    19.522138\n",
      "000015     8.495928\n",
      "000016    39.193076\n",
      "000017    29.791191\n",
      "000021    30.951984\n",
      "000028    39.582698\n",
      "000029    41.440669\n",
      "000030    48.350799\n",
      "000032    34.237169\n",
      "000038    42.480362\n",
      "000039    62.121158\n",
      "000042    34.072458\n",
      "000048    19.727740\n",
      "000054    42.683655\n",
      "000058     8.757289\n",
      "000059    24.892001\n",
      "000062    72.622868\n",
      "000063    43.535758\n",
      "000107    29.758664\n",
      "000113    46.592978\n",
      "000173    31.685400\n",
      "000175    79.302326\n",
      "000176    46.657801\n",
      "000177    41.497467\n",
      "000190    78.568949\n",
      "000191    63.490430\n",
      "000192    29.010067\n",
      "000194    16.952266\n",
      "            ...    \n",
      "000351    41.317044\n",
      "000355    15.705230\n",
      "000450    41.743501\n",
      "000462    25.599239\n",
      "000465    51.643520\n",
      "000468    31.388291\n",
      "000483    38.332102\n",
      "000708    41.919797\n",
      "000800    46.397807\n",
      "000951    54.820352\n",
      "001009    37.391174\n",
      "001020    44.144323\n",
      "001051    23.852004\n",
      "001394    13.217206\n",
      "001427    38.588255\n",
      "001662    51.857623\n",
      "001684    18.942911\n",
      "001686    38.355968\n",
      "001687    12.943330\n",
      "002006     9.074428\n",
      "002062    65.097829\n",
      "002762    32.359774\n",
      "003919    69.758978\n",
      "003946    78.735989\n",
      "003991    39.487006\n",
      "003994    48.326582\n",
      "004002    12.627267\n",
      "004004    36.466516\n",
      "005585    35.716522\n",
      "007682    48.412303\n",
      "Length: 86, dtype: float64\n"
     ]
    }
   ],
   "source": [
    "df_day_na = df_day[df_day > 1] #Let's convert values <= 1mm to na to use the isna() function afterwards\n",
    "print((df_day_na.isna().sum()/df_day.sum()*100)) #Gives back the percentage of days having precipitations > 1mm for each station"
   ]
  }
 ],
 "metadata": {
  "kernelspec": {
   "display_name": "Python 3",
   "language": "python",
   "name": "python3"
  },
  "language_info": {
   "codemirror_mode": {
    "name": "ipython",
    "version": 3
   },
   "file_extension": ".py",
   "mimetype": "text/x-python",
   "name": "python",
   "nbconvert_exporter": "python",
   "pygments_lexer": "ipython3",
   "version": "3.6.7"
  }
 },
 "nbformat": 4,
 "nbformat_minor": 2
}
