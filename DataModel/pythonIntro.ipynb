{
 "cells": [
  {
   "cell_type": "markdown",
   "metadata": {},
   "source": [
    "# Modelos de Datos y Sistemas de Información\n",
    "\n",
    "## Introduction to Python (tarea 1)"
   ]
  },
  {
   "cell_type": "markdown",
   "metadata": {},
   "source": [
    "This assessment has been written by Cédric Prieels in the context of the Master in data science by the UC.\n",
    "We were asked to solve a few exercices in order to understand the basics of the python programming language, using the Jupyter notebook rich output format and the different concepts studied during the theoretical class, based on the sci-py lectures [1]."
   ]
  },
  {
   "cell_type": "markdown",
   "metadata": {},
   "source": [
    "## Compute Pi number"
   ]
  },
  {
   "cell_type": "markdown",
   "metadata": {},
   "source": [
    "In this exercice, we need to compute the decimals of Pi using basic python constituants and the Wallis formula, which can be written as $\\pi = 2 \\prod_{i=1}^{\\infty} \\frac{4i²}{4i²-1} $.\n",
    "\n",
    "For this we used several examples of [1]."
   ]
  },
  {
   "cell_type": "code",
   "execution_count": 106,
   "metadata": {},
   "outputs": [
    {
     "name": "stdout",
     "output_type": "stream",
     "text": [
      "Python is cool\n",
      "Python is powerful\n",
      "Python is readable\n"
     ]
    }
   ],
   "source": [
    "\"\"\"\n",
    "EXAMPLE 1\n",
    "Basic example for the use of the for loop in python to loop over lists\n",
    "\"\"\"\n",
    "for word in ('cool', 'powerful', 'readable'): #In this case, a tuple is used\n",
    "    print('Python is %s' % word)"
   ]
  },
  {
   "cell_type": "code",
   "execution_count": 12,
   "metadata": {},
   "outputs": [
    {
     "name": "stdout",
     "output_type": "stream",
     "text": [
      "The final result of the Wallis formula for a limit of 1000000 is: 3.1415918681913633\n"
     ]
    }
   ],
   "source": [
    "pi = 1 #Let's define the variable which should be equal to the number pi at the end\n",
    "limit = 1000000 #We cannot do the product until the inifnity, so let's set a limit here\n",
    "\n",
    "for i in range(1, limit):\n",
    "    pi *= (4*i*i)/((4*i*i)-1) #Apply the Wallis formula\n",
    "    \n",
    "print(\"The final result of the Wallis formula for a limit of \" + str(limit) + \" is: \" + str(2*pi))"
   ]
  },
  {
   "cell_type": "markdown",
   "metadata": {},
   "source": [
    "## Fibonnaci sequence"
   ]
  },
  {
   "cell_type": "markdown",
   "metadata": {},
   "source": [
    "In this exercice, we should compute the first n terms of the famous Fibonnaci sequence, defined as:\n",
    "$\\left\\{\n",
    "    \\begin{array}{ll}\n",
    "    U_0 = 0\\\\\n",
    "    U_1 = 1\\\\\n",
    "    U_n = U_{n+1}+U_n\n",
    "    \\end{array}\n",
    "\\right.$\n",
    "\n",
    "To solve this exercise, a function is used, as explained in [1] and in the following example. We also use the usual docstring notation, as seen in the example 3. A basic try/except error management is also used in order to check for the validity of the argument given to the function by the user."
   ]
  },
  {
   "cell_type": "code",
   "execution_count": 107,
   "metadata": {},
   "outputs": [
    {
     "data": {
      "text/plain": [
       "7.0649999999999995"
      ]
     },
     "execution_count": 107,
     "metadata": {},
     "output_type": "execute_result"
    }
   ],
   "source": [
    "\"\"\"\n",
    "EXAMPLE 2\n",
    "Most basic function example possible, taking one argument and returning a single value\n",
    "\"\"\"\n",
    "def disk_area(radius):\n",
    "     return 3.14 * radius * radius\n",
    "\n",
    "disk_area(1.5)"
   ]
  },
  {
   "cell_type": "code",
   "execution_count": 111,
   "metadata": {},
   "outputs": [
    {
     "ename": "SyntaxError",
     "evalue": "invalid syntax (<ipython-input-111-e28bdcea6bf0>, line 9)",
     "output_type": "error",
     "traceback": [
      "\u001b[0;36m  File \u001b[0;32m\"<ipython-input-111-e28bdcea6bf0>\"\u001b[0;36m, line \u001b[0;32m9\u001b[0m\n\u001b[0;31m    funcname? #Easiest way to access the documentation of the function\u001b[0m\n\u001b[0m            ^\u001b[0m\n\u001b[0;31mSyntaxError\u001b[0m\u001b[0;31m:\u001b[0m invalid syntax\n"
     ]
    }
   ],
   "source": [
    "def funcname(params):\n",
    "     \"\"\"Concise one-line sentence describing the function.\n",
    "\n",
    "     Extended summary which can contain multiple paragraphs.\n",
    "     \"\"\"\n",
    "     # function body\n",
    "     pass\n",
    "    \n",
    "funcname? #Way to access the documentation of the function"
   ]
  },
  {
   "cell_type": "code",
   "execution_count": 73,
   "metadata": {},
   "outputs": [
    {
     "name": "stdout",
     "output_type": "stream",
     "text": [
      "The first 10 terms of the Fibonnaci sequences are... [0, 1, 1, 2, 3, 5, 8, 13, 21, 34]\n",
      "An integer must be given as argument to this function\n",
      "The first 30 terms of the Fibonnaci sequences are... [0, 1, 1, 2, 3, 5, 8, 13, 21, 34, 55, 89, 144, 233, 377, 610, 987, 1597, 2584, 4181, 6765, 10946, 17711, 28657, 46368, 75025, 121393, 196418, 317811, 514229]\n"
     ]
    }
   ],
   "source": [
    "fib = [0, 1]  #First two values of the Fibonnaci sequence kept in a list\n",
    "\n",
    "def compute_fib(n):\n",
    "    \"\"\"\n",
    "    This function computes the first n terms of the Fibonnaci sequence\n",
    "    A string value is returned if the parameter n given is not an integer.\n",
    "    \"\"\"\n",
    "    try: #Let's check if the user input is an integer, or try to convert it\n",
    "        n = int(n)\n",
    "    except ValueError:\n",
    "        #Handle the exception\n",
    "        return \"An integer must be given as argument to this function\"\n",
    "    \n",
    "    for i in range(len(fib), n):\n",
    "        nextValue = fib[i-1] + fib[i-2]\n",
    "        fib.append(nextValue)\n",
    "    return \"The first \" + str(n) + \" terms of the Fibonnaci sequences are... \" + str(fib)\n",
    "\n",
    "print(compute_fib(\"10\"))\n",
    "print(compute_fib(\"abc\")) #Should not work\n",
    "print(compute_fib(30))"
   ]
  },
  {
   "cell_type": "markdown",
   "metadata": {},
   "source": [
    "## Quicksort implementation"
   ]
  },
  {
   "cell_type": "markdown",
   "metadata": {},
   "source": [
    "Finally, we are asked to implement the Quicksort algorithm using a python function, as defined in [2]. This exercise uses all the previous examples explained in this notebook."
   ]
  },
  {
   "cell_type": "code",
   "execution_count": 104,
   "metadata": {},
   "outputs": [
    {
     "name": "stdout",
     "output_type": "stream",
     "text": [
      "4\n",
      "[4]\n",
      "[-2, -1, 0, 3, 4, 6, 7, 9]\n"
     ]
    }
   ],
   "source": [
    "def quicksort(array=[12,4,5,6,7,3,1,15]):\n",
    "    \"\"\"\n",
    "    Quicksort algorithm using a python function, which orders an array given as a parameter to the function.\n",
    "    If the parameter given is not an array or does not have at least two elements, the element itself is returned.\n",
    "    \"\"\"\n",
    "\n",
    "    less, equal, greater = [], [], []\n",
    "\n",
    "    try:\n",
    "        length = len(array)\n",
    "    except TypeError:\n",
    "        return array #The argument given has to be an array\n",
    "    \n",
    "    if len(array) < 2 or type(array) == str:\n",
    "        return array #An array with at least two elements must be given to this function\n",
    "        \n",
    "    pivot = array[0]\n",
    "    for x in array:\n",
    "        if x < pivot:\n",
    "            less.append(x)\n",
    "        elif x == pivot:\n",
    "            equal.append(x)\n",
    "        elif x > pivot:\n",
    "            greater.append(x)\n",
    "    return quicksort(less) + equal + quicksort(greater)\n",
    "\n",
    "print(quicksort(4))\n",
    "print(quicksort([4]))\n",
    "print(quicksort([4, 9, -2, 0, 6, -1, 7, 3]))"
   ]
  },
  {
   "cell_type": "markdown",
   "metadata": {},
   "source": [
    "## References"
   ]
  },
  {
   "cell_type": "markdown",
   "metadata": {},
   "source": [
    "[1] http://scipy-lectures.org/intro/language/python_language.html\n",
    "[2] https://en.wikipedia.org/wiki/Quicksort"
   ]
  }
 ],
 "metadata": {
  "kernelspec": {
   "display_name": "Python 3",
   "language": "python",
   "name": "python3"
  },
  "language_info": {
   "codemirror_mode": {
    "name": "ipython",
    "version": 3
   },
   "file_extension": ".py",
   "mimetype": "text/x-python",
   "name": "python",
   "nbconvert_exporter": "python",
   "pygments_lexer": "ipython3",
   "version": "3.6.6"
  }
 },
 "nbformat": 4,
 "nbformat_minor": 2
}
